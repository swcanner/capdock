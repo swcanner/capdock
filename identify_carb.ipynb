{
 "cells": [
  {
   "cell_type": "code",
   "execution_count": 2,
   "id": "62299e2c-974c-42f8-8f75-38517e98d331",
   "metadata": {
    "tags": []
   },
   "outputs": [
    {
     "name": "stdout",
     "output_type": "stream",
     "text": [
      "PyRosetta-4 2021 [Rosetta PyRosetta4.Release.python38.mac 2021.36+release.57ac713a6e1d8ce6f60269b3988b1adac1d96fc6 2021-09-10T13:50:04] retrieved from: http://www.pyrosetta.org\n",
      "(C) Copyright Rosetta Commons Member Institutions. Created in JHU by Sergey Lyskov and PyRosetta Team.\n"
     ]
    }
   ],
   "source": [
    "from pyrosetta import *\n",
    "from pyrosetta.rosetta import *\n",
    "from pyrosetta.teaching import *\n",
    "\n",
    "from pyrosetta.rosetta.protocols.carbohydrates import *\n",
    "from pyrosetta.rosetta.core.select.residue_selector import *\n",
    "from pyrosetta.rosetta.core.simple_metrics.metrics import *\n",
    "from pyrosetta.rosetta.core.simple_metrics.composite_metrics import *\n",
    "from pyrosetta.rosetta.core.simple_metrics.per_residue_metrics import *\n",
    "\n",
    "from scipy.spatial.transform import Rotation as R\n",
    "\n",
    "from utils.carb_utils import *\n",
    "\n",
    "options = \"\"\"\n",
    "-beta\n",
    "-include_sugars\n",
    "-alternate_3_letter_codes pdb_sugar\n",
    "\n",
    "-write_pdb_link_records\n",
    "-auto_detect_glycan_connections\n",
    "-ignore_unrecognized_res\n",
    "-out:level 100\n",
    "\"\"\"\n",
    "\n",
    "#-out:level 100\n",
    "\n",
    "init(\" \".join(options.split('\\n')))\n",
    "\n",
    "import os\n",
    "import numpy as np\n",
    "import pandas as pd\n",
    "import copy\n",
    "\n",
    "input_dir = \"./\"\n",
    "os.chdir(input_dir)"
   ]
  },
  {
   "cell_type": "code",
   "execution_count": 3,
   "id": "af29eaf5-447e-40e2-9e3c-e61b4949bd44",
   "metadata": {
    "tags": []
   },
   "outputs": [],
   "source": [
    "sc = get_score_function()\n",
    "fr = pyrosetta.rosetta.protocols.relax.FastRelax()\n",
    "fr.set_scorefxn(sc)\n",
    "fr.max_iter(100)"
   ]
  },
  {
   "cell_type": "code",
   "execution_count": null,
   "id": "8bb8c8ad-f729-4065-8b51-5454591e6314",
   "metadata": {},
   "outputs": [],
   "source": []
  },
  {
   "cell_type": "code",
   "execution_count": 4,
   "id": "0859336b-a84d-4278-9d50-f84a391b3ae6",
   "metadata": {
    "tags": []
   },
   "outputs": [
    {
     "name": "stdout",
     "output_type": "stream",
     "text": [
      "6559 [['3old']\n",
      " ['3ole']\n",
      " ['1pig']\n",
      " ...\n",
      " ['5DFM']\n",
      " ['4A34']\n",
      " ['5HQJ']]\n"
     ]
    }
   ],
   "source": [
    "#Get list of proteins\n",
    "pdb = [];\n",
    "\n",
    "df = pd.read_csv('./carbbinders_pdblist.txt',header=None).values\n",
    "\n",
    "print(len(df),df)"
   ]
  },
  {
   "cell_type": "code",
   "execution_count": 5,
   "id": "b5b2c0b4-3f56-4fd1-929b-65fc3e112d48",
   "metadata": {},
   "outputs": [
    {
     "name": "stdout",
     "output_type": "stream",
     "text": [
      "6251\n"
     ]
    }
   ],
   "source": [
    "ls = os.listdir('./pdbs')\n",
    "print(len(ls))"
   ]
  },
  {
   "cell_type": "code",
   "execution_count": 6,
   "id": "b497a550-a779-4ffa-aa21-5f55b6c7a9aa",
   "metadata": {
    "tags": []
   },
   "outputs": [],
   "source": [
    "\n",
    "        \n",
    "#Determines if the protein is glycosylated or we have free carbohydrates\n",
    "def is_glycosylated(pose):\n",
    "    \"\"\"\n",
    "    Gets whether a pose contains glycosylated proteins\n",
    "    Args:\n",
    "        pose : pyrosetta pose \n",
    "    Returns:\n",
    "        bool : True / False\n",
    "    \"\"\"\n",
    "    tree_set = pose.glycan_tree_set()\n",
    "    for start in tree_set.get_start_points():\n",
    "        parent = tree_set.get_parent(start)\n",
    "        if parent != 0:\n",
    "            return True;\n",
    "    return False\n",
    "    "
   ]
  },
  {
   "cell_type": "code",
   "execution_count": 7,
   "id": "cfa311b0-2845-44e7-8fb3-d9436cdf8383",
   "metadata": {
    "tags": []
   },
   "outputs": [
    {
     "data": {
      "text/plain": [
       "'/Users/scanner1/Downloads/capdock'"
      ]
     },
     "execution_count": 7,
     "metadata": {},
     "output_type": "execute_result"
    }
   ],
   "source": [
    "os.getcwd()"
   ]
  },
  {
   "cell_type": "code",
   "execution_count": 8,
   "id": "a667b78a-3dce-49b3-bef0-b8b99c7eb4f4",
   "metadata": {
    "tags": []
   },
   "outputs": [],
   "source": [
    "pose = pose_from_pdb('./pdbs/' + ls[0])"
   ]
  },
  {
   "cell_type": "code",
   "execution_count": 9,
   "id": "fea4f40c-7b94-4f7c-8623-7af967934f08",
   "metadata": {},
   "outputs": [
    {
     "data": {
      "text/plain": [
       "'1HGG.pdb'"
      ]
     },
     "execution_count": 9,
     "metadata": {},
     "output_type": "execute_result"
    }
   ],
   "source": [
    "ls[0]"
   ]
  },
  {
   "cell_type": "code",
   "execution_count": 10,
   "id": "7792ca08-683e-4b30-8f8b-7daf3c7f12b3",
   "metadata": {
    "tags": []
   },
   "outputs": [],
   "source": [
    "tree_set = pose.glycan_tree_set()"
   ]
  },
  {
   "cell_type": "code",
   "execution_count": 11,
   "id": "43c38eaf-97f8-4465-9aee-388ca71b8511",
   "metadata": {
    "tags": []
   },
   "outputs": [
    {
     "name": "stdout",
     "output_type": "stream",
     "text": [
      "1525 1 H  Glc ->4)-beta-D-Glcp:reducing_end\n",
      "1528 1 I  Glc ->4)-beta-D-Glcp:reducing_end\n",
      "1534 1 K  Glc ->4)-beta-D-Glcp:reducing_end\n",
      "1537 1 L  Glc ->4)-beta-D-Glcp:reducing_end\n",
      "1543 1 N  Glc ->4)-beta-D-Glcp:reducing_end\n",
      "1546 1 O  Glc ->4)-beta-D-Glcp:reducing_end\n"
     ]
    }
   ],
   "source": [
    "s = []\n",
    "for start in tree_set.get_start_points():\n",
    "    #dont include glycosylated bois\n",
    "    parent = tree_set.get_parent(start);\n",
    "    #print(parent)\n",
    "    if parent != 0:\n",
    "        continue;\n",
    "    print(start, pose.pdb_info().pose2pdb(start), pose.residue_type(start).name3(), pose.residue_type(start).name())\n",
    "    s.append(start)"
   ]
  },
  {
   "cell_type": "code",
   "execution_count": 21,
   "id": "9bb97787-149b-4d15-b73f-3464c2d2d845",
   "metadata": {
    "tags": []
   },
   "outputs": [],
   "source": [
    "tree1 = tree_set.get_tree(s[0])"
   ]
  },
  {
   "cell_type": "code",
   "execution_count": 22,
   "id": "5618e246-0b68-4b19-b07a-da9a5467577c",
   "metadata": {
    "tags": []
   },
   "outputs": [
    {
     "data": {
      "text/plain": [
       "vector1_unsigned_long[1525, 1526, 1527]"
      ]
     },
     "execution_count": 22,
     "metadata": {},
     "output_type": "execute_result"
    }
   ],
   "source": [
    "tree1.get_residues()"
   ]
  },
  {
   "cell_type": "code",
   "execution_count": null,
   "id": "8e042d65-e78e-40f5-b337-404f9f95fd1e",
   "metadata": {},
   "outputs": [],
   "source": []
  },
  {
   "cell_type": "code",
   "execution_count": null,
   "id": "91633764-0223-42ed-8953-8f21bc00b091",
   "metadata": {},
   "outputs": [],
   "source": []
  },
  {
   "cell_type": "code",
   "execution_count": 23,
   "id": "5a5fea15-7170-4d7d-ae7b-01067afa62a8",
   "metadata": {
    "tags": []
   },
   "outputs": [
    {
     "ename": "RuntimeError",
     "evalue": "\n\nFile: /Volumes/MacintoshHD3/benchmark/W.fujii.release/rosetta.Fujii.release/_commits_/main/source/build/PyRosetta/macos/clang-9.0.0/python-3.8/release/source/src/core/conformation/Conformation.hh:514\n[ ERROR ] UtilityExitException\nERROR: Error in core::conformation::Conformation::residue(): The sequence position requested was greater than the number of residues in the pose.\n\n",
     "output_type": "error",
     "traceback": [
      "\u001b[0;31m---------------------------------------------------------------------------\u001b[0m",
      "\u001b[0;31mRuntimeError\u001b[0m                              Traceback (most recent call last)",
      "\u001b[0;32m<ipython-input-23-a426c88cafe5>\u001b[0m in \u001b[0;36m<module>\u001b[0;34m\u001b[0m\n\u001b[1;32m     19\u001b[0m     \u001b[0;32mfor\u001b[0m \u001b[0mj\u001b[0m \u001b[0;32min\u001b[0m \u001b[0mrange\u001b[0m\u001b[0;34m(\u001b[0m\u001b[0mpose\u001b[0m\u001b[0;34m.\u001b[0m\u001b[0msize\u001b[0m\u001b[0;34m(\u001b[0m\u001b[0;34m)\u001b[0m\u001b[0;34m-\u001b[0m\u001b[0;36m1\u001b[0m\u001b[0;34m,\u001b[0m\u001b[0;36m0\u001b[0m\u001b[0;34m,\u001b[0m\u001b[0;34m-\u001b[0m\u001b[0;36m1\u001b[0m\u001b[0;34m)\u001b[0m\u001b[0;34m:\u001b[0m\u001b[0;34m\u001b[0m\u001b[0;34m\u001b[0m\u001b[0m\n\u001b[1;32m     20\u001b[0m         \u001b[0;32mif\u001b[0m \u001b[0mj\u001b[0m \u001b[0;32mnot\u001b[0m \u001b[0;32min\u001b[0m \u001b[0mres\u001b[0m\u001b[0;34m:\u001b[0m\u001b[0;34m\u001b[0m\u001b[0;34m\u001b[0m\u001b[0m\n\u001b[0;32m---> 21\u001b[0;31m             \u001b[0mcarb\u001b[0m\u001b[0;34m.\u001b[0m\u001b[0mdelete_residue_slow\u001b[0m\u001b[0;34m(\u001b[0m\u001b[0mj\u001b[0m\u001b[0;34m)\u001b[0m\u001b[0;34m\u001b[0m\u001b[0;34m\u001b[0m\u001b[0m\n\u001b[0m\u001b[1;32m     22\u001b[0m     \u001b[0;31m#print(carb)\u001b[0m\u001b[0;34m\u001b[0m\u001b[0;34m\u001b[0m\u001b[0;34m\u001b[0m\u001b[0m\n\u001b[1;32m     23\u001b[0m \u001b[0;34m\u001b[0m\u001b[0m\n",
      "\u001b[0;31mRuntimeError\u001b[0m: \n\nFile: /Volumes/MacintoshHD3/benchmark/W.fujii.release/rosetta.Fujii.release/_commits_/main/source/build/PyRosetta/macos/clang-9.0.0/python-3.8/release/source/src/core/conformation/Conformation.hh:514\n[ ERROR ] UtilityExitException\nERROR: Error in core::conformation::Conformation::residue(): The sequence position requested was greater than the number of residues in the pose.\n\n"
     ]
    }
   ],
   "source": [
    "#single test\n",
    "\n",
    "out = \"\"\n",
    "\n",
    "tree_set = pose.glycan_tree_set()\n",
    "s = []\n",
    "for start in tree_set.get_start_points():\n",
    "    #skip the glycosylated glycans\n",
    "    parent = tree_set.get_parent(start);\n",
    "    if parent != 0:\n",
    "        continue;\n",
    "    #print(start, pose.pdb_info().pose2pdb(start), pose.residue_type(start).name3(), pose.residue_type(start).name())\n",
    "    s.append(start)\n",
    "\n",
    "prot = pose.clone()\n",
    "    \n",
    "ind = 0;\n",
    "for i in s:\n",
    "    tree = tree_set.get_tree(i)\n",
    "    \n",
    "    \n",
    "    res = np.array(tree.get_residues())\n",
    "    carb = pose.clone()\n",
    "    for j in range(pose.size()-1,0,-1):\n",
    "        if j not in res:\n",
    "            carb.delete_residue_slow(j)\n",
    "    #print(carb)\n",
    "    \n",
    "    \n",
    "    #save the carb\n",
    "    carb.dump_pdb('pdb_pre/1bag_carb' + str(ind) + \".pdb\")\n",
    "    \n",
    "    #relax the carb and save rosetta relax\n",
    "    #fr.apply(carb)\n",
    "    #carb.dump_pdb('pdb_pre/1bag_carb' + str(ind) + \"_rosRel.pdb\")\n",
    "    \n",
    "    ind += 1;\n",
    "    \n",
    "\n",
    "#have a clean protein file\n",
    "for j in range(prot.size(),0,-1):\n",
    "    #print(j)\n",
    "    if prot.residue(j).is_protein():\n",
    "        continue;\n",
    "    print(j)\n",
    "    prot.delete_residue_slow(j)\n",
    "    \n",
    "\n",
    "#output the fasta\n",
    "for ii in range(1,prot.num_chains()+1):\n",
    "    out += \">1BAG_\" + str(ii) + \"\\n\"\n",
    "    out += prot.chain_sequence(ii) + \"\\n\"\n",
    "    \n",
    "prot.dump_pdb('pdb_pre/1bag_prot.pdb')\n",
    "#print(out)\n",
    "    "
   ]
  },
  {
   "cell_type": "code",
   "execution_count": 36,
   "id": "1d282945-1f4b-40d7-aa97-7f582f5d0635",
   "metadata": {},
   "outputs": [],
   "source": [
    "r = pose.residue(3)"
   ]
  },
  {
   "cell_type": "code",
   "execution_count": 37,
   "id": "4471b50e-d48b-4ab1-bdba-97e4a070f497",
   "metadata": {},
   "outputs": [
    {
     "data": {
      "text/plain": [
       "19"
      ]
     },
     "execution_count": 37,
     "metadata": {},
     "output_type": "execute_result"
    }
   ],
   "source": [
    "r.natoms()"
   ]
  },
  {
   "cell_type": "code",
   "execution_count": 38,
   "id": "57d16389-fc2b-4fa4-b646-a52b6abe09e0",
   "metadata": {},
   "outputs": [
    {
     "data": {
      "text/plain": [
       "'LEU'"
      ]
     },
     "execution_count": 38,
     "metadata": {},
     "output_type": "execute_result"
    }
   ],
   "source": [
    "r.name3()"
   ]
  },
  {
   "cell_type": "code",
   "execution_count": null,
   "id": "81fdb4eb-0bff-4d5d-868b-e146db86937e",
   "metadata": {},
   "outputs": [],
   "source": [
    "pose."
   ]
  },
  {
   "cell_type": "code",
   "execution_count": 19,
   "id": "9c5886a7-f705-48f4-a9e7-979bae27ddc7",
   "metadata": {},
   "outputs": [
    {
     "name": "stdout",
     "output_type": "stream",
     "text": [
      " N  \n",
      " CA \n",
      " C  \n",
      " O  \n",
      " CB \n",
      " CG \n",
      " CD1\n",
      " CD2\n",
      " H  \n",
      " HA \n",
      "1HB \n",
      "2HB \n",
      " HG \n",
      "1HD1\n",
      "2HD1\n",
      "3HD1\n",
      "1HD2\n",
      "2HD2\n",
      "3HD2\n"
     ]
    }
   ],
   "source": [
    "for i in range(1,20):\n",
    "    print(r.atom_name(i))"
   ]
  },
  {
   "cell_type": "code",
   "execution_count": 34,
   "id": "37cc175e-e174-45e1-8073-1a07536bb83e",
   "metadata": {},
   "outputs": [],
   "source": [
    "def dump_res_pdb(pose,res,file):\n",
    "    \n",
    "    \n",
    "    anum = 1;\n",
    "    resnum = 1;\n",
    "    out = ''\n",
    "\n",
    "    for ii in res:\n",
    "        \n",
    "        r = pose.residue(ii)\n",
    "        resnum = r.pose2\n",
    "\n",
    "        for a in range(1,r.natoms()+1):\n",
    "            \n",
    "            aname = r.atom_name(a)\n",
    "            if 'H' in aname:\n",
    "                continue;\n",
    "            if 'V' in aname:\n",
    "                continue;\n",
    "            \n",
    "            out += \"ATOM  \"\n",
    "            out += str(anum).rjust(5) + ' '\n",
    "            out += aname\n",
    "            out += ' ' # no alt location indicator\n",
    "            out += r.name3().ljust(4)\n",
    "            out += 'A'\n",
    "            out += str(ii).rjust(4)\n",
    "            out += '   '\n",
    "            #print(m.coor[a,:])\n",
    "            coor = r.xyz(a)\n",
    "            c = str( round(coor[0],3) )\n",
    "            while len( c.split('.')[1] ) < 3:\n",
    "                c += '0'\n",
    "            out += c.rjust(8)\n",
    "            c = str( round(coor[1],3) )\n",
    "            while len( c.split('.')[1] ) < 3:\n",
    "                c += '0'\n",
    "            out += c.rjust(8)\n",
    "            c = str( round(coor[2],3) )\n",
    "            while len( c.split('.')[1] ) < 3:\n",
    "                c += '0'\n",
    "            out += c.rjust(8)\n",
    "\n",
    "\n",
    "            #out += str( round(m.coor[a,1],3) ).rjust(8)\n",
    "            #out += str( round(m.coor[a,2],3) ).rjust(8)\n",
    "\n",
    "            out += '\\n'\n",
    "            anum += 1\n",
    "        resnum += 1\n",
    "\n",
    "    \n",
    "    return out\n",
    "    "
   ]
  },
  {
   "cell_type": "code",
   "execution_count": 35,
   "id": "fae3150b-f1c0-4054-ab85-928a8908b53a",
   "metadata": {
    "tags": []
   },
   "outputs": [
    {
     "name": "stdout",
     "output_type": "stream",
     "text": [
      "ATOM      1  C1  Glc A1525    -14.607  70.135  20.516\n",
      "ATOM      2  C2  Glc A1525    -14.580  69.462  21.901\n",
      "ATOM      3  C3  Glc A1525    -14.196  70.493  22.969\n",
      "ATOM      4  C4  Glc A1525    -12.746  70.949  22.641\n",
      "ATOM      5  O4  Glc A1525    -12.291  71.886  23.657\n",
      "ATOM      6  C5  Glc A1525    -12.731  71.610  21.194\n",
      "ATOM      7  O5  Glc A1525    -13.305  70.669  20.222\n",
      "ATOM      8  O1  Glc A1525    -14.982  69.133  19.574\n",
      "ATOM      9  O2  Glc A1525    -15.837  68.888  22.183\n",
      "ATOM     10  O3  Glc A1525    -14.333  69.889  24.241\n",
      "ATOM     11  C6  Glc A1525    -11.318  72.020  20.625\n",
      "ATOM     12  O6  Glc A1525    -10.821  73.240  21.148\n",
      "ATOM     13  C1  Gal A1526    -11.324  71.392  24.592\n",
      "ATOM     14  C2  Gal A1526    -10.895  72.474  25.575\n",
      "ATOM     15  C3  Gal A1526     -9.983  71.913  26.639\n",
      "ATOM     16  O3  Gal A1526     -9.686  72.971  27.579\n",
      "ATOM     17  C4  Gal A1526    -10.680  70.735  27.319\n",
      "ATOM     18  C5  Gal A1526    -11.033  69.679  26.276\n",
      "ATOM     19  O5  Gal A1526    -11.876  70.290  25.302\n",
      "ATOM     20  O1  Gal A1526    -12.291  71.886  23.657\n",
      "ATOM     21  O2  Gal A1526    -10.202  73.543  24.962\n",
      "ATOM     22  O4  Gal A1526    -11.855  71.166  27.956\n",
      "ATOM     23  C6  Gal A1526    -11.751  68.455  26.821\n",
      "ATOM     24  O6  Gal A1526    -12.386  67.770  25.761\n",
      "ATOM     25  C2  Neu A1527     -8.296  73.253  27.798\n",
      "ATOM     26  C3  Neu A1527     -8.141  74.441  28.737\n",
      "ATOM     27  C4  Neu A1527     -6.670  74.884  28.823\n",
      "ATOM     28  C5  Neu A1527     -6.206  75.302  27.430\n",
      "ATOM     29  C6  Neu A1527     -6.345  74.057  26.516\n",
      "ATOM     30  C7  Neu A1527     -6.003  74.288  25.050\n",
      "ATOM     31  C8  Neu A1527     -6.125  73.020  24.204\n",
      "ATOM     32  O8  Neu A1527     -5.367  71.965  24.719\n",
      "ATOM     33  O6  Neu A1527     -7.703  73.599  26.539\n",
      "ATOM     34  C1  Neu A1527     -7.663  71.990  28.419\n",
      "ATOM     35 1O1  Neu A1527     -7.826  71.744  29.605\n",
      "ATOM     36 2O1  Neu A1527     -7.014  71.216  27.726\n",
      "ATOM     37  O2  Neu A1527     -9.686  72.971  27.579\n",
      "ATOM     38  O3  Neu A1527     -8.792  74.157  29.978\n",
      "ATOM     39  O4  Neu A1527     -6.442  75.945  29.749\n",
      "ATOM     40  N5  Neu A1527     -4.846  75.779  27.602\n",
      "ATOM     41  O7  Neu A1527     -6.926  75.219  24.550\n",
      "ATOM     42  C9  Neu A1527     -5.672  73.251  22.766\n",
      "ATOM     43  O9  Neu A1527     -5.458  71.976  22.206\n",
      "ATOM     44  CN5 Neu A1527     -4.277  76.655  26.791\n",
      "ATOM     45 CAN5 Neu A1527     -2.862  77.131  27.043\n",
      "ATOM     46 OCN5 Neu A1527     -4.874  77.040  25.802\n",
      "\n",
      "ATOM      1  C1  Glc A1528      2.921  58.358  24.991\n",
      "ATOM      2  C2  Glc A1528      2.840  58.795  23.550\n",
      "ATOM      3  C3  Glc A1528      3.056  57.593  22.617\n",
      "ATOM      4  C4  Glc A1528      4.362  56.903  23.009\n",
      "ATOM      5  O4  Glc A1528      4.646  55.743  22.186\n",
      "ATOM      6  C5  Glc A1528      4.325  56.467  24.475\n",
      "ATOM      7  O5  Glc A1528      4.119  57.635  25.278\n",
      "ATOM      8  O1  Glc A1528      2.860  59.533  25.758\n",
      "ATOM      9  O2  Glc A1528      1.579  59.372  23.282\n",
      "ATOM     10  O3  Glc A1528      3.095  58.066  21.284\n",
      "ATOM     11  C6  Glc A1528      5.631  55.758  24.885\n",
      "ATOM     12  O6  Glc A1528      5.600  55.421  26.261\n",
      "ATOM     13  C1  Gal A1529      5.764  55.847  21.283\n",
      "ATOM     14  C2  Gal A1529      6.076  54.505  20.646\n",
      "ATOM     15  C3  Gal A1529      7.249  54.675  19.681\n",
      "ATOM     16  O3  Gal A1529      7.571  53.398  19.087\n",
      "ATOM     17  C4  Gal A1529      6.818  55.711  18.627\n",
      "ATOM     18  C5  Gal A1529      6.478  57.051  19.293\n",
      "ATOM     19  O5  Gal A1529      5.482  56.832  20.289\n",
      "ATOM     20  O1  Gal A1529      4.646  55.743  22.186\n",
      "ATOM     21  O2  Gal A1529      6.390  53.563  21.639\n",
      "ATOM     22  O4  Gal A1529      5.676  55.266  17.915\n",
      "ATOM     23  C6  Gal A1529      5.924  58.126  18.345\n",
      "ATOM     24  O6  Gal A1529      6.657  58.163  17.141\n",
      "ATOM     25  C2  Neu A1530      8.739  52.626  19.477\n",
      "ATOM     26  C3  Neu A1530      8.649  51.353  18.628\n",
      "ATOM     27  C4  Neu A1530      9.498  50.180  19.087\n",
      "ATOM     28  C5  Neu A1530      9.250  49.872  20.575\n",
      "ATOM     29  C6  Neu A1530      9.508  51.163  21.321\n",
      "ATOM     30  C7  Neu A1530      9.309  51.167  22.839\n",
      "ATOM     31  C8  Neu A1530      9.849  52.467  23.413\n",
      "ATOM     32  O8  Neu A1530     11.188  52.678  23.017\n",
      "ATOM     33  O6  Neu A1530      8.634  52.216  20.844\n",
      "ATOM     34  C1  Neu A1530     10.054  53.424  19.241\n",
      "ATOM     35 1O1  Neu A1530     10.231  54.012  18.182\n",
      "ATOM     36 2O1  Neu A1530     10.894  53.525  20.141\n",
      "ATOM     37  O2  Neu A1530      7.571  53.398  19.087\n",
      "ATOM     38  O3  Neu A1530      8.703  51.699  17.242\n",
      "ATOM     39  O4  Neu A1530      9.149  49.044  18.316\n",
      "ATOM     40  N5  Neu A1530     10.136  48.775  20.969\n",
      "ATOM     41  O7  Neu A1530      7.942  51.041  23.143\n",
      "ATOM     42  C9  Neu A1530      9.804  52.502  24.931\n",
      "ATOM     43  O9  Neu A1530     10.555  53.634  25.301\n",
      "ATOM     44  CN5 Neu A1530      9.782  47.833  21.840\n",
      "ATOM     45 CAN5 Neu A1530     10.707  46.682  22.149\n",
      "ATOM     46 OCN5 Neu A1530      8.728  47.902  22.449\n",
      "\n",
      "ATOM      1  C1  Glc A1534     -1.360  71.229 -20.046\n",
      "ATOM      2  C2  Glc A1534     -1.510  69.942 -20.875\n",
      "ATOM      3  C3  Glc A1534     -2.934  69.388 -20.704\n",
      "ATOM      4  C4  Glc A1534     -3.100  69.013 -19.206\n",
      "ATOM      5  O4  Glc A1534     -4.408  68.423 -18.994\n",
      "ATOM      6  C5  Glc A1534     -2.899  70.321 -18.327\n",
      "ATOM      7  O5  Glc A1534     -1.610  70.937 -18.651\n",
      "ATOM      8  O1  Glc A1534     -0.029  71.712 -20.245\n",
      "ATOM      9  O2  Glc A1534     -1.234  70.199 -22.231\n",
      "ATOM     10  O3  Glc A1534     -3.099  68.293 -21.574\n",
      "ATOM     11  C6  Glc A1534     -2.912  70.122 -16.759\n",
      "ATOM     12  O6  Glc A1534     -4.205  69.985 -16.187\n",
      "ATOM     13  C1  Gal A1535     -4.453  67.008 -18.769\n",
      "ATOM     14  C2  Gal A1535     -5.881  66.519 -18.528\n",
      "ATOM     15  C3  Gal A1535     -5.922  65.021 -18.426\n",
      "ATOM     16  O3  Gal A1535     -7.297  64.619 -18.268\n",
      "ATOM     17  C4  Gal A1535     -5.303  64.429 -19.685\n",
      "ATOM     18  C5  Gal A1535     -3.879  64.926 -19.835\n",
      "ATOM     19  O5  Gal A1535     -3.918  66.343 -19.903\n",
      "ATOM     20  O1  Gal A1535     -4.408  68.423 -18.994\n",
      "ATOM     21  O2  Gal A1535     -6.467  67.022 -17.346\n",
      "ATOM     22  O4  Gal A1535     -6.040  64.796 -20.824\n",
      "ATOM     23  C6  Gal A1535     -3.148  64.415 -21.079\n",
      "ATOM     24  O6  Gal A1535     -2.024  65.239 -21.327\n",
      "ATOM     25  C2  Neu A1536     -7.616  63.815 -17.129\n",
      "ATOM     26  C3  Neu A1536     -9.124  63.551 -17.059\n",
      "ATOM     27  C4  Neu A1536     -9.504  62.877 -15.729\n",
      "ATOM     28  C5  Neu A1536     -9.112  63.800 -14.581\n",
      "ATOM     29  C6  Neu A1536     -7.577  63.994 -14.678\n",
      "ATOM     30  C7  Neu A1536     -6.995  64.970 -13.647\n",
      "ATOM     31  C8  Neu A1536     -5.458  65.115 -13.764\n",
      "ATOM     32  O8  Neu A1536     -4.810  63.856 -13.693\n",
      "ATOM     33  O6  Neu A1536     -7.223  64.533 -15.961\n",
      "ATOM     34  C1  Neu A1536     -6.848  62.497 -17.264\n",
      "ATOM     35 1O1  Neu A1536     -7.259  61.624 -18.025\n",
      "ATOM     36 2O1  Neu A1536     -5.818  62.320 -16.629\n",
      "ATOM     37  O2  Neu A1536     -7.297  64.619 -18.268\n",
      "ATOM     38  O3  Neu A1536     -9.548  62.886 -18.252\n",
      "ATOM     39  O4  Neu A1536    -10.883  62.533 -15.625\n",
      "ATOM     40  N5  Neu A1536     -9.574  63.109 -13.388\n",
      "ATOM     41  O7  Neu A1536     -7.562  66.230 -13.881\n",
      "ATOM     42  C9  Neu A1536     -4.894  65.993 -12.644\n",
      "ATOM     43  O9  Neu A1536     -3.509  65.776 -12.601\n",
      "ATOM     44  CN5 Neu A1536     -9.853  63.750 -12.265\n",
      "ATOM     45 CAN5 Neu A1536    -10.358  62.971 -11.067\n",
      "ATOM     46 OCN5 Neu A1536     -9.665  64.961 -12.183\n",
      "\n",
      "ATOM      1  C1  Glc A1537      6.884  53.365 -11.176\n",
      "ATOM      2  C2  Glc A1537      7.277  54.637 -10.449\n",
      "ATOM      3  C3  Glc A1537      8.791  54.684 -10.215\n",
      "ATOM      4  C4  Glc A1537      9.222  53.383  -9.519\n",
      "ATOM      5  O4  Glc A1537     10.653  53.333  -9.285\n",
      "ATOM      6  C5  Glc A1537      8.829  52.167 -10.353\n",
      "ATOM      7  O5  Glc A1537      7.408  52.188 -10.527\n",
      "ATOM      8  O1  Glc A1537      5.481  53.344 -11.209\n",
      "ATOM      9  O2  Glc A1537      6.898  55.773 -11.194\n",
      "ATOM     10  O3  Glc A1537      9.098  55.818  -9.432\n",
      "ATOM     11  C6  Glc A1537      9.248  50.846  -9.693\n",
      "ATOM     12  O6  Glc A1537      8.809  49.730 -10.443\n",
      "ATOM     13  C1  Gal A1538     11.084  53.410  -7.918\n",
      "ATOM     14  C2  Gal A1538     12.573  53.134  -7.790\n",
      "ATOM     15  C3  Gal A1538     12.973  53.248  -6.317\n",
      "ATOM     16  O3  Gal A1538     14.376  52.960  -6.169\n",
      "ATOM     17  C4  Gal A1538     12.628  54.680  -5.861\n",
      "ATOM     18  C5  Gal A1538     11.122  54.956  -6.039\n",
      "ATOM     19  O5  Gal A1538     10.760  54.694  -7.394\n",
      "ATOM     20  O1  Gal A1538     10.653  53.333  -9.285\n",
      "ATOM     21  O2  Gal A1538     12.871  51.851  -8.278\n",
      "ATOM     22  O4  Gal A1538     13.349  55.630  -6.625\n",
      "ATOM     23  C6  Gal A1538     10.667  56.394  -5.725\n",
      "ATOM     24  O6  Gal A1538     11.295  56.866  -4.549\n",
      "ATOM     25  C2  Neu A1539     14.865  51.711  -5.624\n",
      "ATOM     26  C3  Neu A1539     16.395  51.839  -5.705\n",
      "ATOM     27  C4  Neu A1539     17.184  50.540  -5.584\n",
      "ATOM     28  C5  Neu A1539     16.656  49.477  -6.569\n",
      "ATOM     29  C6  Neu A1539     15.170  49.335  -6.290\n",
      "ATOM     30  C7  Neu A1539     14.369  48.354  -7.143\n",
      "ATOM     31  C8  Neu A1539     12.985  48.192  -6.539\n",
      "ATOM     32  O8  Neu A1539     13.058  47.834  -5.173\n",
      "ATOM     33  O6  Neu A1539     14.493  50.608  -6.464\n",
      "ATOM     34  C1  Neu A1539     14.350  51.492  -4.177\n",
      "ATOM     35 1O1  Neu A1539     14.414  52.407  -3.361\n",
      "ATOM     36 2O1  Neu A1539     13.819  50.422  -3.859\n",
      "ATOM     37  O2  Neu A1539     14.376  52.960  -6.169\n",
      "ATOM     38  O3  Neu A1539     16.823  52.954  -4.919\n",
      "ATOM     39  O4  Neu A1539     18.544  50.805  -5.876\n",
      "ATOM     40  N5  Neu A1539     17.420  48.246  -6.350\n",
      "ATOM     41  O7  Neu A1539     14.276  48.837  -8.456\n",
      "ATOM     42  C9  Neu A1539     12.155  47.133  -7.258\n",
      "ATOM     43  O9  Neu A1539     11.026  46.920  -6.452\n",
      "ATOM     44  CN5 Neu A1539     17.744  47.416  -7.340\n",
      "ATOM     45 CAN5 Neu A1539     18.595  46.196  -7.069\n",
      "ATOM     46 OCN5 Neu A1539     17.326  47.589  -8.478\n",
      "\n",
      "ATOM      1  C1  Glc A1543     19.112  93.531   9.691\n",
      "ATOM      2  C2  Glc A1543     20.632  93.665   9.551\n",
      "ATOM      3  C3  Glc A1543     20.979  94.111   8.119\n",
      "ATOM      4  C4  Glc A1543     20.511  92.975   7.175\n",
      "ATOM      5  O4  Glc A1543     20.865  93.302   5.811\n",
      "ATOM      6  C5  Glc A1543     18.946  92.780   7.338\n",
      "ATOM      7  O5  Glc A1543     18.620  92.559   8.749\n",
      "ATOM      8  O1  Glc A1543     18.858  93.129  11.036\n",
      "ATOM      9  O2  Glc A1543     21.121  94.585  10.499\n",
      "ATOM     10  O3  Glc A1543     22.368  94.377   8.055\n",
      "ATOM     11  C6  Glc A1543     18.307  91.577   6.554\n",
      "ATOM     12  O6  Glc A1543     18.096  91.828   5.180\n",
      "ATOM     13  C1  Gal A1544     21.960  92.573   5.234\n",
      "ATOM     14  C2  Gal A1544     22.213  92.986   3.777\n",
      "ATOM     15  C3  Gal A1544     23.437  92.308   3.232\n",
      "ATOM     16  O3  Gal A1544     23.646  92.792   1.893\n",
      "ATOM     17  C4  Gal A1544     24.618  92.621   4.148\n",
      "ATOM     18  C5  Gal A1544     24.317  92.150   5.562\n",
      "ATOM     19  O5  Gal A1544     23.135  92.807   6.005\n",
      "ATOM     20  O1  Gal A1544     20.865  93.302   5.811\n",
      "ATOM     21  O2  Gal A1544     21.150  92.669   2.902\n",
      "ATOM     22  O4  Gal A1544     24.875  94.003   4.171\n",
      "ATOM     23  C6  Gal A1544     25.415  92.422   6.579\n",
      "ATOM     24  O6  Gal A1544     24.868  92.339   7.874\n",
      "ATOM     25  C2  Neu A1545     23.740  91.813   0.858\n",
      "ATOM     26  C3  Neu A1545     23.879  92.486  -0.505\n",
      "ATOM     27  C4  Neu A1545     23.768  91.460  -1.634\n",
      "ATOM     28  C5  Neu A1545     22.401  90.799  -1.560\n",
      "ATOM     29  C6  Neu A1545     22.315  90.107  -0.174\n",
      "ATOM     30  C7  Neu A1545     20.971  89.437   0.137\n",
      "ATOM     31  C8  Neu A1545     20.947  88.736   1.497\n",
      "ATOM     32  O8  Neu A1545     21.994  87.814   1.630\n",
      "ATOM     33  O6  Neu A1545     22.530  91.072   0.865\n",
      "ATOM     34  C1  Neu A1545     24.975  90.943   1.153\n",
      "ATOM     35 1O1  Neu A1545     26.102  91.354   0.894\n",
      "ATOM     36 2O1  Neu A1545     24.841  89.843   1.674\n",
      "ATOM     37  O2  Neu A1545     23.646  92.792   1.893\n",
      "ATOM     38  O3  Neu A1545     25.045  93.314  -0.512\n",
      "ATOM     39  O4  Neu A1545     23.961  92.018  -2.928\n",
      "ATOM     40  N5  Neu A1545     22.347  89.892  -2.702\n",
      "ATOM     41  O7  Neu A1545     20.005  90.449   0.177\n",
      "ATOM     42  C9  Neu A1545     19.638  87.991   1.722\n",
      "ATOM     43  O9  Neu A1545     19.872  87.102   2.781\n",
      "ATOM     44  CN5 Neu A1545     21.211  89.515  -3.271\n",
      "ATOM     45 CAN5 Neu A1545     21.231  88.603  -4.473\n",
      "ATOM     46 OCN5 Neu A1545     20.147  89.868  -2.799\n",
      "\n",
      "ATOM      1  C1  Glc A1546     30.041  75.128   6.947\n",
      "ATOM      2  C2  Glc A1546     28.582  74.905   7.323\n",
      "ATOM      3  C3  Glc A1546     28.474  73.928   8.484\n",
      "ATOM      4  C4  Glc A1546     29.231  72.649   8.125\n",
      "ATOM      5  O4  Glc A1546     29.194  71.668   9.193\n",
      "ATOM      6  C5  Glc A1546     30.693  72.969   7.814\n",
      "ATOM      7  O5  Glc A1546     30.725  73.889   6.719\n",
      "ATOM      8  O1  Glc A1546     30.028  75.913   5.782\n",
      "ATOM      9  O2  Glc A1546     27.979  76.129   7.700\n",
      "ATOM     10  O3  Glc A1546     27.105  73.675   8.717\n",
      "ATOM     11  C6  Glc A1546     31.486  71.710   7.431\n",
      "ATOM     12  O6  Glc A1546     32.806  72.019   7.072\n",
      "ATOM     13  C1  Gal A1547     28.433  70.470   8.939\n",
      "ATOM     14  C2  Gal A1547     28.648  69.437  10.029\n",
      "ATOM     15  C3  Gal A1547     27.797  68.202   9.724\n",
      "ATOM     16  O3  Gal A1547     28.004  67.202  10.736\n",
      "ATOM     17  C4  Gal A1547     26.338  68.670   9.674\n",
      "ATOM     18  C5  Gal A1547     26.147  69.740   8.584\n",
      "ATOM     19  O5  Gal A1547     27.059  70.806   8.818\n",
      "ATOM     20  O1  Gal A1547     29.194  71.668   9.193\n",
      "ATOM     21  O2  Gal A1547     30.008  69.090  10.094\n",
      "ATOM     22  O4  Gal A1547     25.943  69.221  10.915\n",
      "ATOM     23  C6  Gal A1547     24.731  70.368   8.531\n",
      "ATOM     24  O6  Gal A1547     23.743  69.376   8.657\n",
      "ATOM     25  C2  Neu A1548     28.812  66.005  10.508\n",
      "ATOM     26  C3  Neu A1548     28.777  65.270  11.852\n",
      "ATOM     27  C4  Neu A1548     29.861  64.207  12.049\n",
      "ATOM     28  C5  Neu A1548     31.263  64.770  11.748\n",
      "ATOM     29  C6  Neu A1548     31.196  65.349  10.347\n",
      "ATOM     30  C7  Neu A1548     32.455  65.992   9.765\n",
      "ATOM     31  C8  Neu A1548     32.238  66.258   8.283\n",
      "ATOM     32  O8  Neu A1548     31.848  65.068   7.596\n",
      "ATOM     33  O6  Neu A1548     30.179  66.368  10.253\n",
      "ATOM     34  C1  Neu A1548     28.236  65.155   9.342\n",
      "ATOM     35 1O1  Neu A1548     27.036  64.911   9.300\n",
      "ATOM     36 2O1  Neu A1548     28.972  64.767   8.428\n",
      "ATOM     37  O2  Neu A1548     28.004  67.202  10.736\n",
      "ATOM     38  O3  Neu A1548     27.425  64.939  12.180\n",
      "ATOM     39  O4  Neu A1548     29.830  63.783  13.393\n",
      "ATOM     40  N5  Neu A1548     32.217  63.672  11.904\n",
      "ATOM     41  O7  Neu A1548     32.716  67.190  10.427\n",
      "ATOM     42  C9  Neu A1548     33.491  66.811   7.600\n",
      "ATOM     43  O9  Neu A1548     33.233  66.707   6.225\n",
      "ATOM     44  CN5 Neu A1548     33.469  63.863  12.341\n",
      "ATOM     45 CAN5 Neu A1548     34.398  62.696  12.562\n",
      "ATOM     46 OCN5 Neu A1548     33.887  64.978  12.574\n",
      "\n"
     ]
    },
    {
     "ename": "NameError",
     "evalue": "name 'prot' is not defined",
     "output_type": "error",
     "traceback": [
      "\u001b[0;31m---------------------------------------------------------------------------\u001b[0m",
      "\u001b[0;31mNameError\u001b[0m                                 Traceback (most recent call last)",
      "\u001b[0;32m<ipython-input-35-5dacadce31e4>\u001b[0m in \u001b[0;36m<module>\u001b[0;34m\u001b[0m\n\u001b[1;32m     59\u001b[0m     \u001b[0;32mreturn\u001b[0m \u001b[0mout\u001b[0m\u001b[0;34m\u001b[0m\u001b[0;34m\u001b[0m\u001b[0m\n\u001b[1;32m     60\u001b[0m \u001b[0;34m\u001b[0m\u001b[0m\n\u001b[0;32m---> 61\u001b[0;31m \u001b[0moutput_pdbs\u001b[0m\u001b[0;34m(\u001b[0m\u001b[0;34m'1hgg'\u001b[0m\u001b[0;34m,\u001b[0m\u001b[0mpose\u001b[0m\u001b[0;34m)\u001b[0m\u001b[0;34m\u001b[0m\u001b[0;34m\u001b[0m\u001b[0m\n\u001b[0m",
      "\u001b[0;32m<ipython-input-35-5dacadce31e4>\u001b[0m in \u001b[0;36moutput_pdbs\u001b[0;34m(name, pose)\u001b[0m\n\u001b[1;32m     40\u001b[0m     \u001b[0;31m#print(pose.size(),carb.size(),prot.size())\u001b[0m\u001b[0;34m\u001b[0m\u001b[0;34m\u001b[0m\u001b[0;34m\u001b[0m\u001b[0m\n\u001b[1;32m     41\u001b[0m     \u001b[0;31m#have a clean protein file\u001b[0m\u001b[0;34m\u001b[0m\u001b[0;34m\u001b[0m\u001b[0;34m\u001b[0m\u001b[0m\n\u001b[0;32m---> 42\u001b[0;31m     \u001b[0;32mfor\u001b[0m \u001b[0mj\u001b[0m \u001b[0;32min\u001b[0m \u001b[0mrange\u001b[0m\u001b[0;34m(\u001b[0m\u001b[0mprot\u001b[0m\u001b[0;34m.\u001b[0m\u001b[0msize\u001b[0m\u001b[0;34m(\u001b[0m\u001b[0;34m)\u001b[0m\u001b[0;34m,\u001b[0m\u001b[0;36m0\u001b[0m\u001b[0;34m,\u001b[0m\u001b[0;34m-\u001b[0m\u001b[0;36m1\u001b[0m\u001b[0;34m)\u001b[0m\u001b[0;34m:\u001b[0m\u001b[0;34m\u001b[0m\u001b[0;34m\u001b[0m\u001b[0m\n\u001b[0m\u001b[1;32m     43\u001b[0m         \u001b[0;31m#print(j)\u001b[0m\u001b[0;34m\u001b[0m\u001b[0;34m\u001b[0m\u001b[0;34m\u001b[0m\u001b[0m\n\u001b[1;32m     44\u001b[0m         \u001b[0;32mif\u001b[0m \u001b[0mj\u001b[0m \u001b[0;34m==\u001b[0m \u001b[0;36m0\u001b[0m\u001b[0;34m:\u001b[0m\u001b[0;34m\u001b[0m\u001b[0;34m\u001b[0m\u001b[0m\n",
      "\u001b[0;31mNameError\u001b[0m: name 'prot' is not defined"
     ]
    }
   ],
   "source": [
    "def output_pdbs(name,pose):\n",
    "\n",
    "    out = \"\"\n",
    "\n",
    "    #get the number of trees\n",
    "    tree_set = pose.glycan_tree_set()\n",
    "    s = []\n",
    "    for start in tree_set.get_start_points():\n",
    "        #skip the glycosylated glycans\n",
    "        parent = tree_set.get_parent(start);\n",
    "        if parent != 0:\n",
    "            continue;\n",
    "        #print(start, pose.pdb_info().pose2pdb(start), pose.residue_type(start).name3(), pose.residue_type(start).name())\n",
    "        s.append(start)\n",
    "\n",
    "    #print(pose.size())\n",
    "    #prot = pose.clone()\n",
    "\n",
    "    ind = 0;\n",
    "    for i in s:\n",
    "        tree = tree_set.get_tree(i)\n",
    "        res = np.array(tree.get_residues())\n",
    "        #carb = pose.clone()\n",
    "        \n",
    "\n",
    "        print( dump_res_pdb(pose,res,'') )\n",
    "\n",
    "        #print(carb)\n",
    "\n",
    "\n",
    "        #save the carb\n",
    "        #carb.dump_pdb('pdb_pre/' + name + '_carb' + str(ind) + \".pdb\")\n",
    "\n",
    "        #relax the carb and save rosetta relax\n",
    "        #fr.apply(carb)\n",
    "        #carb.dump_pdb('pdb_pre/' + name + '_carb' + str(ind) + \"_rosRel.pdb\")\n",
    "\n",
    "        #ind += 1;\n",
    "\n",
    "    #print(pose.size(),carb.size(),prot.size())\n",
    "    #have a clean protein file\n",
    "    for j in range(prot.size(),0,-1):\n",
    "        #print(j)\n",
    "        if j == 0:\n",
    "            break;\n",
    "        if prot.residue(j).is_protein():\n",
    "            continue;\n",
    "        #print(j)\n",
    "        prot.delete_residue_slow(j)\n",
    "\n",
    "    #print(pose.size(),carb.size(),prot.size())\n",
    "    #output the fasta\n",
    "    for ii in range(1,prot.num_chains()+1):\n",
    "        out += \">\" + name + \"_\" + str(ii) + \"\\n\"\n",
    "        out += prot.chain_sequence(ii) + \"\\n\"\n",
    "\n",
    "    prot.dump_pdb('pdb_pre/' + name + '_prot.pdb')\n",
    "    #print(out)\n",
    "    return out\n",
    "    \n",
    "output_pdbs('1hgg',pose)"
   ]
  },
  {
   "cell_type": "code",
   "execution_count": null,
   "id": "af79172b-cf5e-436d-bed0-b4e4b577cf09",
   "metadata": {},
   "outputs": [],
   "source": []
  },
  {
   "cell_type": "code",
   "execution_count": null,
   "id": "f0d84cd0-6d2f-4abc-8aa8-5236ea0de082",
   "metadata": {
    "tags": []
   },
   "outputs": [],
   "source": [
    "#output_pdbs('1bag',pyrosetta.toolbox.pose_from_rcsb('1bag'.upper(),ATOM=False))\n",
    "output_pdbs('1hgg',pose)"
   ]
  },
  {
   "cell_type": "code",
   "execution_count": 22,
   "id": "26a25079-df1c-4e4f-8f6b-994a52d77bb2",
   "metadata": {
    "tags": []
   },
   "outputs": [
    {
     "name": "stdout",
     "output_type": "stream",
     "text": [
      "1e5j\n"
     ]
    },
    {
     "name": "stderr",
     "output_type": "stream",
     "text": [
      "\n",
      "ERROR: Error in core::conformation::Conformation::residue(): The sequence position requested was 0.  Pose numbering starts at 1.\n",
      "ERROR:: Exit from: /Volumes/scratch/w/rosetta/commits/rosetta/source/build/PyRosetta/macOS-12.7-arm64-arm-64bit/clang-14.0.0/python-3.11/release/source/src/core/conformation/Conformation.hh line: 513\n"
     ]
    },
    {
     "ename": "RuntimeError",
     "evalue": "\n\nFile: /Volumes/scratch/w/rosetta/commits/rosetta/source/build/PyRosetta/macOS-12.7-arm64-arm-64bit/clang-14.0.0/python-3.11/release/source/src/core/conformation/Conformation.hh:513\n[ ERROR ] UtilityExitException\nERROR: Error in core::conformation::Conformation::residue(): The sequence position requested was 0.  Pose numbering starts at 1.\n\n",
     "output_type": "error",
     "traceback": [
      "\u001b[0;31m---------------------------------------------------------------------------\u001b[0m",
      "\u001b[0;31mRuntimeError\u001b[0m                              Traceback (most recent call last)",
      "Cell \u001b[0;32mIn[22], line 8\u001b[0m\n\u001b[1;32m      6\u001b[0m pdb \u001b[38;5;241m=\u001b[39m ii[\u001b[38;5;241m0\u001b[39m]\n\u001b[1;32m      7\u001b[0m \u001b[38;5;28mprint\u001b[39m(pdb)\n\u001b[0;32m----> 8\u001b[0m pose \u001b[38;5;241m=\u001b[39m pyrosetta\u001b[38;5;241m.\u001b[39mtoolbox\u001b[38;5;241m.\u001b[39mpose_from_rcsb(pdb\u001b[38;5;241m.\u001b[39mupper(),ATOM\u001b[38;5;241m=\u001b[39m\u001b[38;5;28;01mFalse\u001b[39;00m)\n\u001b[1;32m      9\u001b[0m fa \u001b[38;5;241m+\u001b[39m\u001b[38;5;241m=\u001b[39m output_pdbs(pdb,pose)\n\u001b[1;32m     11\u001b[0m f \u001b[38;5;241m=\u001b[39m \u001b[38;5;28mopen\u001b[39m(\u001b[38;5;124m'\u001b[39m\u001b[38;5;124mpdb_pre/fasta.fa\u001b[39m\u001b[38;5;124m'\u001b[39m,\u001b[38;5;124m'\u001b[39m\u001b[38;5;124mw+\u001b[39m\u001b[38;5;124m'\u001b[39m)\n",
      "File \u001b[0;32m~/anaconda3/lib/python3.11/site-packages/pyrosetta/toolbox/rcsb.py:102\u001b[0m, in \u001b[0;36mpose_from_rcsb\u001b[0;34m(pdb_code, ATOM, CRYS)\u001b[0m\n\u001b[1;32m    100\u001b[0m     cleanCRYS(pdb_code \u001b[38;5;241m+\u001b[39m \u001b[38;5;124m\"\u001b[39m\u001b[38;5;124m.pdb\u001b[39m\u001b[38;5;124m\"\u001b[39m)\n\u001b[1;32m    101\u001b[0m     pdb_code \u001b[38;5;241m=\u001b[39m pdb_code \u001b[38;5;241m+\u001b[39m \u001b[38;5;124m\"\u001b[39m\u001b[38;5;124m.mono\u001b[39m\u001b[38;5;124m\"\u001b[39m\n\u001b[0;32m--> 102\u001b[0m pose \u001b[38;5;241m=\u001b[39m pose_from_file(pdb_code \u001b[38;5;241m+\u001b[39m \u001b[38;5;124m\"\u001b[39m\u001b[38;5;124m.pdb\u001b[39m\u001b[38;5;124m\"\u001b[39m)\n\u001b[1;32m    103\u001b[0m \u001b[38;5;28;01mreturn\u001b[39;00m pose\n",
      "\u001b[0;31mRuntimeError\u001b[0m: \n\nFile: /Volumes/scratch/w/rosetta/commits/rosetta/source/build/PyRosetta/macOS-12.7-arm64-arm-64bit/clang-14.0.0/python-3.11/release/source/src/core/conformation/Conformation.hh:513\n[ ERROR ] UtilityExitException\nERROR: Error in core::conformation::Conformation::residue(): The sequence position requested was 0.  Pose numbering starts at 1.\n\n"
     ]
    }
   ],
   "source": [
    "fa = ''\n",
    "for ii in ls[:10]:\n",
    "\n",
    "    #print(ii[0])\n",
    "    #try:\n",
    "        pdb = ii[0]\n",
    "        print(pdb)\n",
    "        pose = pyrosetta.toolbox.pose_from_rcsb(pdb.upper(),ATOM=False)\n",
    "        fa += output_pdbs(pdb,pose)\n",
    "\n",
    "        f = open('pdb_pre/fasta.fa','w+')\n",
    "        f.write(fa)\n",
    "        f.close()\n",
    "    #except:\n",
    "    #    print(\"Unable: \",pdb)\n",
    "    \n",
    "    #break;"
   ]
  },
  {
   "cell_type": "code",
   "execution_count": null,
   "id": "25e2db8e-eb84-4eba-ac6e-4457c462f60c",
   "metadata": {},
   "outputs": [],
   "source": []
  }
 ],
 "metadata": {
  "kernelspec": {
   "display_name": "Python 3",
   "language": "python",
   "name": "python3"
  },
  "language_info": {
   "codemirror_mode": {
    "name": "ipython",
    "version": 3
   },
   "file_extension": ".py",
   "mimetype": "text/x-python",
   "name": "python",
   "nbconvert_exporter": "python",
   "pygments_lexer": "ipython3",
   "version": "3.8.8"
  }
 },
 "nbformat": 4,
 "nbformat_minor": 5
}
