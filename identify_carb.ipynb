{
 "cells": [
  {
   "cell_type": "code",
   "execution_count": 2,
   "id": "62299e2c-974c-42f8-8f75-38517e98d331",
   "metadata": {
    "tags": []
   },
   "outputs": [],
   "source": [
    "from Bio.PDB import *\n",
    "\n",
    "from scipy.spatial.transform import Rotation as R\n",
    "\n",
    "from utils.carb_utils import *\n",
    "\n",
    "import matplotlib.pyplot as plt\n",
    "\n",
    "from scipy.spatial import distance_matrix as dm\n",
    "#-alternate_3_letter_codes pdb_sugar\n",
    "#-out:level 100\n",
    "\n",
    "#-beta\n",
    "#-auto_detect_glycan_connections\n",
    "#-alternate_3_letter_codes pdb_sugar\n",
    "\n",
    "\n",
    "\n",
    "import os\n",
    "import numpy as np\n",
    "import pandas as pd\n",
    "import copy\n",
    "\n",
    "BOND_CUT = 1.75\n",
    "INTERACT = 4.5\n",
    "\n",
    "input_dir = \"./\"\n",
    "os.chdir(input_dir)"
   ]
  },
  {
   "cell_type": "code",
   "execution_count": null,
   "id": "6827692b-5716-4d1c-8106-aa5a2f83b55a",
   "metadata": {
    "tags": []
   },
   "outputs": [],
   "source": [
    "from pyrosetta import *\n",
    "from pyrosetta.rosetta import *\n",
    "from pyrosetta.teaching import *\n",
    "\n",
    "from pyrosetta.rosetta.protocols.carbohydrates import *\n",
    "from pyrosetta.rosetta.core.select.residue_selector import *\n",
    "from pyrosetta.rosetta.core.simple_metrics.metrics import *\n",
    "from pyrosetta.rosetta.core.simple_metrics.composite_metrics import *\n",
    "from pyrosetta.rosetta.core.simple_metrics.per_residue_metrics import *\n",
    "\n",
    "options = \"\"\"\n",
    "-ignore_unrecognized_res\n",
    "-include_sugars\n",
    "-auto_detect_glycan_connections\n",
    "-maintain_links \n",
    "-alternate_3_letter_codes pdb_sugar\n",
    "-write_glycan_pdb_codes\n",
    "-ignore_zero_occupancy false \n",
    "-load_PDB_components false\n",
    "-no_fconfig\n",
    "\n",
    "-out:level 100\n",
    "\"\"\"\n",
    "\n",
    "init(\" \".join(options.split('\\n')))"
   ]
  },
  {
   "cell_type": "code",
   "execution_count": null,
   "id": "af29eaf5-447e-40e2-9e3c-e61b4949bd44",
   "metadata": {
    "tags": []
   },
   "outputs": [],
   "source": [
    "sc = get_score_function()\n",
    "fr = pyrosetta.rosetta.protocols.relax.FastRelax()\n",
    "fr.set_scorefxn(sc)\n",
    "fr.max_iter(100)"
   ]
  },
  {
   "cell_type": "code",
   "execution_count": null,
   "id": "3e10b302-694e-496f-afbf-47acb5b21ac5",
   "metadata": {},
   "outputs": [],
   "source": [
    "ls = os.listdir"
   ]
  },
  {
   "cell_type": "code",
   "execution_count": 2,
   "id": "0859336b-a84d-4278-9d50-f84a391b3ae6",
   "metadata": {
    "tags": []
   },
   "outputs": [
    {
     "name": "stdout",
     "output_type": "stream",
     "text": [
      "6559 [['3old']\n",
      " ['3ole']\n",
      " ['1pig']\n",
      " ...\n",
      " ['5DFM']\n",
      " ['4A34']\n",
      " ['5HQJ']]\n"
     ]
    }
   ],
   "source": [
    "#Get list of proteins\n",
    "pdb = [];\n",
    "\n",
    "df = pd.read_csv('./carbbinders_pdblist.txt',header=None).values\n",
    "\n",
    "print(len(df),df)"
   ]
  },
  {
   "cell_type": "code",
   "execution_count": 3,
   "id": "b5b2c0b4-3f56-4fd1-929b-65fc3e112d48",
   "metadata": {
    "tags": []
   },
   "outputs": [
    {
     "name": "stdout",
     "output_type": "stream",
     "text": [
      "6251\n"
     ]
    }
   ],
   "source": [
    "ls = os.listdir('./pdbs')\n",
    "print(len(ls))"
   ]
  },
  {
   "cell_type": "code",
   "execution_count": 3,
   "id": "8e37cacb-e1e4-40f5-abbb-6397d34038d0",
   "metadata": {
    "tags": []
   },
   "outputs": [
    {
     "name": "stdout",
     "output_type": "stream",
     "text": [
      "['NAG', 'BGC', 'GLC', 'MAN', 'GAL', 'FUC', 'BMA', 'BM3', 'BNG', 'XYP', 'UD1', 'A2G', 'UMQ', 'NGA', 'GDU', 'BG6', 'SLB', 'SIA', 'NEU', 'F6R', 'X6X', 'P6F', 'PA1', '1GN', 'RAM', 'ABE', 'GCU', 'ASG', 'LGU', 'AHR', 'GTK', 'BDP', 'LFR']\n"
     ]
    }
   ],
   "source": [
    "gly = '''N-acetyl-beta-D-glucosamine (NAG), beta-D-glucopyranose (BGC),\n",
    "alpha-D-glucopyranose (GLC), alpha-D-mannopyranose (MAN),\n",
    "beta-D-galactopyranose (GAL), alpha-L-fucopyranose (FUC),\n",
    "beta-D-mannopyranose (BMA), N-acetyl-alpha-D-mannosamine (BM3), nonyl\n",
    "beta-D-glucopyranoside (BNG), beta-D-xylopyranose (XYP),\n",
    "uridine-diphosphate-n-acetylglucosamine (UD1), N-acetyl-alpha-D-galactosamine\n",
    "(A2G), undecyl-maltoside (UMQ), N-acetyl-beta-D-galactosamine (NGA),\n",
    "galactose-uridine-5-diphosphate (GDU), 6-O-phosphono-beta-D-glucopyranose\n",
    "(BG6), N-acetyl-beta-neuraminic acid (SLB), N-acetyl-alpha-neuraminic acid (SIA), (NEU),\n",
    "fructose -6-phosphate (F6R), alpha-D-galactopyranose (X6X),\n",
    "1,6-di-O-phosphono-D-fructose (P6F), 2-amino-2-deoxy-alpha-D-glucopyranose\n",
    "(PA1), 2-amino-2-deoxy-beta-D-galactopyranose (1GN), alpha-L-rhamnopyranose\n",
    "(RAM), alpha-D-Abequopyranose (ABE), alpha-D-glucopyranuronic acid (GCU),\n",
    "2-acetamido-2-deoxy-4-O-sulfo-beta-D-galactopyranose (ASG),\n",
    "alpha-L-gulopyranuronic acid (LGU), alpha-L-arabinofuranose (AHR),\n",
    "beta-D-galactofuranuronic acid (GTK), beta-D-glucopyranuronic acid (BDP),\n",
    "beta-L-fructofuranose (LFR) and cyclodextrins'''\n",
    "\n",
    "carb = [];\n",
    "gly = gly.split('(')\n",
    "#print(gly)\n",
    "for jj in range(len(gly)):\n",
    "    if ')' in gly[jj]:\n",
    "        carb.append(gly[jj].split(')')[0])\n",
    "print(carb)"
   ]
  },
  {
   "cell_type": "code",
   "execution_count": 4,
   "id": "2c64afdc-ebcd-46fb-8cf1-70402a7cc919",
   "metadata": {
    "tags": []
   },
   "outputs": [],
   "source": [
    "aa_inv = {\n",
    "    \"H\": \"HIS\",\n",
    "    \"K\": \"LYS\",\n",
    "    \"R\": \"ARG\",\n",
    "    \"D\": \"ASP\",\n",
    "    \"E\": \"GLU\",\n",
    "    \"S\": \"SER\",\n",
    "    \"T\": \"THR\",\n",
    "    \"N\": \"ASN\",\n",
    "    \"Q\": \"GLN\",\n",
    "    \"A\": \"ALA\",\n",
    "    \"V\": \"VAL\",\n",
    "    \"L\": \"LEU\",\n",
    "    \"I\": \"ILE\",\n",
    "    \"M\": \"MET\",\n",
    "    \"F\": \"PHE\",\n",
    "    \"Y\": \"TYR\",\n",
    "    \"W\": \"TRP\",\n",
    "    \"P\": \"PRO\",\n",
    "    \"G\": \"GLY\",\n",
    "    \"C\": \"CYS\",\n",
    "    \"X\": \"MSE\",\n",
    "    \"Z\": \"CYD\"\n",
    "}\n",
    "aa_inv.keys()\n",
    "prot_aa = aa_inv.values()"
   ]
  },
  {
   "cell_type": "code",
   "execution_count": null,
   "id": "13bf3a56-b048-43b2-a2b6-6a665521153d",
   "metadata": {},
   "outputs": [],
   "source": []
  },
  {
   "cell_type": "code",
   "execution_count": 5,
   "id": "eedc770c-846b-4918-9f15-778f5d397460",
   "metadata": {
    "tags": []
   },
   "outputs": [
    {
     "name": "stderr",
     "output_type": "stream",
     "text": [
      "/Users/scanner1/anaconda3/lib/python3.11/site-packages/Bio/PDB/StructureBuilder.py:89: PDBConstructionWarning: WARNING: Chain A is discontinuous at line 5919.\n",
      "  warnings.warn(\n"
     ]
    }
   ],
   "source": [
    "parser=PDBParser()\n",
    "\n",
    "#structure=parser.get_structure(\"prot\", 'pdbs/'+ ls[0])\n",
    "structure=parser.get_structure(\"prot\", 'pdbs/'+ '1W3L.pdb')"
   ]
  },
  {
   "cell_type": "code",
   "execution_count": null,
   "id": "f2abe2e9-0269-47c4-9be4-2323da7e83cb",
   "metadata": {},
   "outputs": [],
   "source": []
  },
  {
   "cell_type": "code",
   "execution_count": 6,
   "id": "fe9ffbf6-eab7-409d-8cd1-8033fb94cba2",
   "metadata": {
    "tags": []
   },
   "outputs": [],
   "source": [
    "class GlycanSelect(Select):\n",
    "    def accept_residue(self, residue):\n",
    "        r = residue\n",
    "        #help(r)\n",
    "        #if residue.get_resname()=='GLY':\n",
    "        if residue.get_resname() in carb:\n",
    "            return 1\n",
    "        else:\n",
    "            return 0\n",
    "        \n",
    "io=PDBIO()\n",
    "io.set_structure(structure)\n",
    "io.save('gly_only.pdb', GlycanSelect())"
   ]
  },
  {
   "cell_type": "code",
   "execution_count": 7,
   "id": "cb445bff-1493-46f0-84f0-984ab1cc733b",
   "metadata": {
    "tags": []
   },
   "outputs": [],
   "source": [
    "class ProteinSelect(Select):\n",
    "    def accept_residue(self, residue):\n",
    "        r = residue\n",
    "        #help(r)\n",
    "        #if residue.get_resname()=='GLY':\n",
    "        if residue.get_resname() in prot_aa:\n",
    "            return 1\n",
    "        else:\n",
    "            return 0\n",
    "        \n",
    "io=PDBIO()\n",
    "io.set_structure(structure)\n",
    "io.save('prot_only.pdb', ProteinSelect())"
   ]
  },
  {
   "cell_type": "code",
   "execution_count": 8,
   "id": "d08171ef-e8d4-48a1-b83e-aea6f98205c5",
   "metadata": {
    "tags": []
   },
   "outputs": [],
   "source": [
    "#Determine which ones are glycosylated and which are non-covalent\n",
    "penis = []\n",
    "kk = []\n",
    "\n",
    "coor_c = []\n",
    "coor_p = []\n",
    "res_c = []\n",
    "res_p = []\n",
    "\n",
    "coor_x = []\n",
    "res_x = []\n",
    "\n",
    "models = structure.get_models()\n",
    "models = list(models)\n",
    "for m in range(len(models)):\n",
    "    chains = list(models[m].get_chains())\n",
    "    for c in range(len(chains)):\n",
    "        residues = list(chains[c].get_residues())\n",
    "        for r in range(len(residues)):\n",
    "            res = residues[r].get_resname()\n",
    "            if res == 'HOH':\n",
    "                continue;\n",
    "            \n",
    "            atoms = list(residues[r].get_atoms())\n",
    "            \n",
    "            for a in range(len(atoms)):\n",
    "                at = atoms[a]\n",
    "                \n",
    "                if 'H' in at.get_name():\n",
    "                    continue;\n",
    "                \n",
    "                #print(str(residues[r].get_parent().id).strip())\n",
    "                \n",
    "                if res in carb:\n",
    "                    coor_c.append( at.get_coord() )\n",
    "                    res_c.append( [ str(residues[r].id[1]).strip(), str(chains[c].id).strip(), str(residues[r].get_resname()) ] )\n",
    "                    #res_c.append( [ str(residues[r].id[1]).strip(), str(residues[r].get_resname()) ] )\n",
    "                elif res in prot_aa:\n",
    "                    coor_p.append( at.get_coord() )\n",
    "                    res_p.append( [ str(residues[r].id[1]).strip(), str(chains[c].id).strip(), str(residues[r].get_resname()) ] )\n",
    "                    #res_p.append( [ str(residues[r].id[1]).strip(), str(residues[r].get_resname()) ] )\n",
    "                else:\n",
    "                    coor_x.append( at.get_coord() )\n",
    "                    res_x.append( [ str(residues[r].id[1]).strip(), str(chains[c].id).strip(), str(residues[r].get_resname()) ] )\n",
    "                    #res_x.append( [ str(residues[r].id[1]).strip(), str(residues[r].get_resname()) ] )\n",
    "            \n",
    "            #my_res = str(residues[r].id[1]).strip() + \".\" + str(chains[c].id).strip()\n",
    "            #print(my_res)\n",
    "#Determine interacting chains (e.g. remove redundant chains)\n",
    "\n",
    "\n",
    "#Save by glycan chain\n",
    "\n",
    "#save by pdb-glycan interacting chain\n",
    "#svae FASTA of pdb-glycan buddy\n",
    "#save complete FASTA"
   ]
  },
  {
   "cell_type": "code",
   "execution_count": 9,
   "id": "8abf6877-fb8d-42d7-b00b-6662413c07ea",
   "metadata": {
    "tags": []
   },
   "outputs": [],
   "source": [
    "b = residues[0]\n",
    "\n",
    "#b.get_parent()\n",
    "b.get_id()\n",
    "c = b.get_parent()"
   ]
  },
  {
   "cell_type": "code",
   "execution_count": 10,
   "id": "4f9f05e7-cdaa-488d-9433-e9acc1ce461e",
   "metadata": {
    "tags": []
   },
   "outputs": [
    {
     "data": {
      "text/plain": [
       "'B'"
      ]
     },
     "execution_count": 10,
     "metadata": {},
     "output_type": "execute_result"
    }
   ],
   "source": [
    "c.id"
   ]
  },
  {
   "cell_type": "code",
   "execution_count": null,
   "id": "dd7cda6d-371a-44a0-b5bd-f41bdb51cdaf",
   "metadata": {
    "tags": []
   },
   "outputs": [],
   "source": []
  },
  {
   "cell_type": "code",
   "execution_count": 11,
   "id": "e163446f-ae4f-40c1-8da0-6ac21f8696c8",
   "metadata": {
    "tags": []
   },
   "outputs": [],
   "source": [
    "coor_x = np.array(coor_x)\n",
    "coor_c = np.array(coor_c)\n",
    "coor_p = np.array(coor_p)\n",
    "#res_c = np.array(res_c)\n",
    "#res_p = np.array(res_p)\n",
    "#res_x = np.array(res_x)\n"
   ]
  },
  {
   "cell_type": "code",
   "execution_count": null,
   "id": "954c13fc-9386-4fb0-a5f5-b902fd42d7a2",
   "metadata": {},
   "outputs": [],
   "source": []
  },
  {
   "cell_type": "code",
   "execution_count": 12,
   "id": "fa9bad0f-756b-4d2f-8600-6f467179e5d2",
   "metadata": {
    "tags": []
   },
   "outputs": [],
   "source": [
    "x = []\n",
    "y = []\n",
    "\n",
    "for ii in np.linspace(0,5,51):\n",
    "    d = dm(coor_c,coor_p) < ii\n",
    "    x.append(ii)\n",
    "    y.append(np.sum(d))"
   ]
  },
  {
   "cell_type": "code",
   "execution_count": 13,
   "id": "aad368c6-f86d-438f-afd5-c1deb35a4e98",
   "metadata": {
    "tags": []
   },
   "outputs": [],
   "source": [
    "#x"
   ]
  },
  {
   "cell_type": "code",
   "execution_count": null,
   "id": "122c5168-78da-41b5-82a9-d97cc407a054",
   "metadata": {},
   "outputs": [],
   "source": []
  },
  {
   "cell_type": "code",
   "execution_count": 14,
   "id": "62eadc96-8a3d-48cc-9c20-5ffd074457e3",
   "metadata": {
    "tags": []
   },
   "outputs": [
    {
     "data": {
      "text/plain": [
       "[<matplotlib.lines.Line2D at 0x16418b2d0>]"
      ]
     },
     "execution_count": 14,
     "metadata": {},
     "output_type": "execute_result"
    },
    {
     "data": {
      "image/png": "[encoded data removed]",
      "text/plain": [
       "<Figure size 640x480 with 1 Axes>"
      ]
     },
     "metadata": {},
     "output_type": "display_data"
    }
   ],
   "source": [
    "plt.plot(x,y)"
   ]
  },
  {
   "cell_type": "code",
   "execution_count": 17,
   "id": "30838dd2-e205-4d87-9885-99768f3d7c57",
   "metadata": {
    "tags": []
   },
   "outputs": [],
   "source": [
    "d = dm(coor_c,coor_p) < BOND_CUT\n",
    "a = np.array( np.where(d == 1) )\n",
    "a = np.array(a)"
   ]
  },
  {
   "cell_type": "code",
   "execution_count": 18,
   "id": "6cb5ccbf-16c5-4e4a-bcd1-30b5ebab32e1",
   "metadata": {
    "tags": []
   },
   "outputs": [
    {
     "data": {
      "text/plain": [
       "array([], shape=(2, 0), dtype=int64)"
      ]
     },
     "execution_count": 18,
     "metadata": {},
     "output_type": "execute_result"
    }
   ],
   "source": [
    "a"
   ]
  },
  {
   "cell_type": "code",
   "execution_count": 19,
   "id": "b10fa3b2-0bc6-4af4-8447-65b68a0cc1e8",
   "metadata": {},
   "outputs": [],
   "source": [
    "import copy"
   ]
  },
  {
   "cell_type": "code",
   "execution_count": 20,
   "id": "b4176cfb-d3f8-4ad0-8fde-1eb3dd232994",
   "metadata": {
    "tags": []
   },
   "outputs": [
    {
     "name": "stdout",
     "output_type": "stream",
     "text": [
      "[[ 0  0  0  0  1  1  1  1  2  2  2  2  3  3  3  3  4  4  4  5  5  5  6  6\n",
      "   7  7  8  8  8  9  9  9 10 10 11 11 11 11 12 12 12 12 13 13 13 13 14 14\n",
      "  14 14 15 15 15 16 16 16 16 17 17 18 18 19 19 20 20 20 21 21]\n",
      " [ 0  1  5  6  0  1  2  7  1  2  3  8  2  3  4  9  3  4 10  0  5  9  0  6\n",
      "   1  7  2  8 16  3  5  9  4 10 11 12 16 17 11 12 13 18 12 13 14 19 13 14\n",
      "  15 20 14 15 21  8 11 16 20 11 17 12 18 13 19 14 16 20 15 21]]\n"
     ]
    },
    {
     "data": {
      "text/plain": [
       "[]"
      ]
     },
     "execution_count": 20,
     "metadata": {},
     "output_type": "execute_result"
    }
   ],
   "source": [
    "#a = np.array( np.where(d == 1) )\n",
    "bad_c = []\n",
    "for ii in range(a.shape[1]):\n",
    "    bad_c.append( res_c[a[0,ii]] )\n",
    "    #print(res_c[a[0,ii]], res_p[a[1,ii]])\n",
    "\n",
    "\n",
    "pre_bad = bad_c;\n",
    "\n",
    "while True:       \n",
    "    ccd = dm(coor_c,coor_c) < BOND_CUT\n",
    "    ccd = np.array( np.where(ccd == 1) )\n",
    "    ccd =  np.array(ccd)\n",
    "    print(ccd)\n",
    "    \n",
    "    for ii in range(ccd.shape[1]):\n",
    "        if res_c[ ccd[0,ii] ] in bad_c or res_c[ ccd[1,ii] ] in bad_c:\n",
    "            if res_c[ccd[0,ii]] not in bad_c:\n",
    "                bad_c.append( res_c[ccd[0,ii]] )\n",
    "            if res_c[ccd[1,ii]] not in bad_c:\n",
    "                bad_c.append( res_c[ccd[1,ii]] )\n",
    "        #print(res_c[ ccd[0,ii] ], res_c[ccd[1,ii]])\n",
    "        \n",
    "    if pre_bad == bad_c:\n",
    "        break;\n",
    "    pre_bad = copy.deepcopy(bad_c)\n",
    "    \n",
    "bad_c"
   ]
  },
  {
   "cell_type": "code",
   "execution_count": 21,
   "id": "1b034ec3-1c48-4fcb-b36c-8f18c538ccc0",
   "metadata": {},
   "outputs": [
    {
     "data": {
      "text/plain": [
       "[['1', 'B', 'BGC'], ['2', 'B', 'BGC']]"
      ]
     },
     "execution_count": 21,
     "metadata": {},
     "output_type": "execute_result"
    }
   ],
   "source": [
    "good_c = []\n",
    "for c in res_c:\n",
    "    if c in bad_c:\n",
    "        continue;\n",
    "    if c not in good_c:\n",
    "        good_c.append(c)\n",
    "        \n",
    "good_c"
   ]
  },
  {
   "cell_type": "code",
   "execution_count": 22,
   "id": "088d4ac3-d0e7-4e22-be21-9048cc85ec9d",
   "metadata": {},
   "outputs": [
    {
     "name": "stdout",
     "output_type": "stream",
     "text": [
      "[[ 5]\n",
      " [24]]\n"
     ]
    }
   ],
   "source": [
    "#Add non-glycan connections\n",
    "weirdres = dm(coor_c,coor_x) < BOND_CUT\n",
    "weirdres = np.array( np.where(weirdres == 1) )\n",
    "weirdres =  np.array(weirdres)\n",
    "print(weirdres)\n",
    "\n",
    "for ii in range(weirdres.shape[1]):\n",
    "    good_c.append( res_x[weirdres[1,ii]] )\n",
    "\n"
   ]
  },
  {
   "cell_type": "code",
   "execution_count": 23,
   "id": "f9c64f25-1510-4292-91f7-3551390fd0c5",
   "metadata": {},
   "outputs": [
    {
     "data": {
      "text/plain": [
       "[['1', 'B', 'BGC'], ['2', 'B', 'BGC'], ['1309', 'A', 'OXZ']]"
      ]
     },
     "execution_count": 23,
     "metadata": {},
     "output_type": "execute_result"
    }
   ],
   "source": [
    "good_c"
   ]
  },
  {
   "cell_type": "code",
   "execution_count": 24,
   "id": "3707ff65-e15c-4bdd-9f05-48e589513df1",
   "metadata": {},
   "outputs": [],
   "source": [
    "class GlycanSelect(Select):\n",
    "    def accept_residue(self, residue):\n",
    "        r = residue\n",
    "        #help(r)\n",
    "        #if residue.get_resname()=='GLY':\n",
    "        \n",
    "        n = str(r.id[1]).strip()\n",
    "        c = str(r.get_parent().id).strip()\n",
    "        resname = str(r.get_resname())\n",
    "        resarr = [n,c,resname]\n",
    "        #if resname in carb:\n",
    "        if resarr in good_c:\n",
    "            return 1\n",
    "        else:\n",
    "            return 0\n",
    "        \n",
    "io=PDBIO()\n",
    "io.set_structure(structure)\n",
    "io.save('good_gly_only.pdb', GlycanSelect())"
   ]
  },
  {
   "cell_type": "code",
   "execution_count": 25,
   "id": "5185ae7f-476f-499a-b12a-1d598f87ae4a",
   "metadata": {},
   "outputs": [],
   "source": [
    "class ProtSelect(Select):\n",
    "    def accept_residue(self, residue):\n",
    "        r = residue\n",
    "        #help(r)\n",
    "        #if residue.get_resname()=='GLY':\n",
    "        \n",
    "        n = str(r.id[1]).strip()\n",
    "        c = str(r.get_parent().id).strip()\n",
    "        resname = str(r.get_resname())\n",
    "        resarr = [n,c,resname]\n",
    "        #if resname in carb:\n",
    "        if resarr in res_p:\n",
    "            return 1\n",
    "        else:\n",
    "            return 0\n",
    "        \n",
    "io=PDBIO()\n",
    "io.set_structure(structure)\n",
    "io.save('prot_only.pdb', ProtSelect())"
   ]
  },
  {
   "cell_type": "code",
   "execution_count": 26,
   "id": "c8628f24-9e65-4944-b585-83a1e1fe02d2",
   "metadata": {},
   "outputs": [],
   "source": [
    "#determine chain-chain interactions\n",
    "d = dm(coor_c,coor_p) < INTERACT\n",
    "a = np.array( np.where(d == 1) )\n",
    "a = np.array(a)\n",
    "\n",
    "#chain_int = {}\n",
    "chain_int = ''\n",
    "for ii in range(a.shape[1]):\n",
    "    if res_c[a[0,ii]] in bad_c:\n",
    "        continue\n",
    "    res1 = res_c[ a[0,ii] ]\n",
    "    res2 = res_p[ a[1,ii] ]\n",
    "    \n",
    "    #print(res1,res2)\n",
    "    \n",
    "    #chain_int[res1[1]] = res2[1]\n",
    "    ope = res1[1] + ',' + res2[1]\n",
    "    if ope not in chain_int:\n",
    "        chain_int +=ope + '\\n'\n",
    "\n",
    "    #chain_int.update({res1[1]:res2[2]})\n",
    "    \n",
    "    #bad_c.append( res_c[a[0,ii]] )\n",
    "    #print(res_c[a[0,ii]], res_p[a[1,ii]])\n",
    "    \n",
    "#chain_int\n",
    "\n",
    "f = open('chain_int.csv','w+')\n",
    "f.write(chain_int)\n",
    "f.close()"
   ]
  },
  {
   "cell_type": "code",
   "execution_count": 27,
   "id": "1b152f1d-de0b-4c19-8099-c5749d88d1c8",
   "metadata": {},
   "outputs": [
    {
     "name": "stdout",
     "output_type": "stream",
     "text": [
      "B,A\n",
      "\n"
     ]
    }
   ],
   "source": [
    "print(chain_int)"
   ]
  },
  {
   "cell_type": "code",
   "execution_count": 28,
   "id": "cfa311b0-2845-44e7-8fb3-d9436cdf8383",
   "metadata": {
    "tags": []
   },
   "outputs": [
    {
     "data": {
      "text/plain": [
       "'/Users/scanner1/Downloads/capdock'"
      ]
     },
     "execution_count": 28,
     "metadata": {},
     "output_type": "execute_result"
    }
   ],
   "source": [
    "os.getcwd()"
   ]
  },
  {
   "cell_type": "code",
   "execution_count": 29,
   "id": "cac97740-bf54-4de1-8a0b-95d534fddb23",
   "metadata": {
    "tags": []
   },
   "outputs": [
    {
     "data": {
      "text/plain": [
       "'1HGG.pdb'"
      ]
     },
     "execution_count": 29,
     "metadata": {},
     "output_type": "execute_result"
    }
   ],
   "source": [
    "ls[0]"
   ]
  },
  {
   "cell_type": "code",
   "execution_count": 9,
   "id": "a667b78a-3dce-49b3-bef0-b8b99c7eb4f4",
   "metadata": {
    "tags": []
   },
   "outputs": [
    {
     "name": "stderr",
     "output_type": "stream",
     "text": [
      "\n",
      "ERROR: Residue::carbohydrate_info(): This residue is not a carbohydrate!\n",
      "ERROR:: Exit from: /Volumes/scratch/w/rosetta/commits/rosetta/source/src/core/conformation/Residue.cc line: 419\n"
     ]
    },
    {
     "ename": "RuntimeError",
     "evalue": "\n\nFile: /Volumes/scratch/w/rosetta/commits/rosetta/source/src/core/conformation/Residue.cc:419\n[ ERROR ] UtilityExitException\nERROR: Residue::carbohydrate_info(): This residue is not a carbohydrate!\n\n",
     "output_type": "error",
     "traceback": [
      "\u001b[0;31m---------------------------------------------------------------------------\u001b[0m",
      "\u001b[0;31mRuntimeError\u001b[0m                              Traceback (most recent call last)",
      "Cell \u001b[0;32mIn[9], line 1\u001b[0m\n\u001b[0;32m----> 1\u001b[0m pose \u001b[38;5;241m=\u001b[39m pose_from_pdb(\u001b[38;5;124m'\u001b[39m\u001b[38;5;124m./pdbs/\u001b[39m\u001b[38;5;124m'\u001b[39m \u001b[38;5;241m+\u001b[39m ls[\u001b[38;5;241m0\u001b[39m])\n",
      "File \u001b[0;32m~/anaconda3/lib/python3.11/site-packages/pyrosetta/io/__init__.py:20\u001b[0m, in \u001b[0;36mpose_from_pdb\u001b[0;34m(filename)\u001b[0m\n\u001b[1;32m     19\u001b[0m \u001b[38;5;28;01mdef\u001b[39;00m \u001b[38;5;21mpose_from_pdb\u001b[39m(filename):\n\u001b[0;32m---> 20\u001b[0m     \u001b[38;5;28;01mreturn\u001b[39;00m pose_from_file(filename)\n",
      "\u001b[0;31mRuntimeError\u001b[0m: \n\nFile: /Volumes/scratch/w/rosetta/commits/rosetta/source/src/core/conformation/Residue.cc:419\n[ ERROR ] UtilityExitException\nERROR: Residue::carbohydrate_info(): This residue is not a carbohydrate!\n\n"
     ]
    }
   ],
   "source": [
    "pose = pose_from_pdb('./pdbs/' + ls[0])"
   ]
  },
  {
   "cell_type": "code",
   "execution_count": 10,
   "id": "2f99ebd0-b23e-4b6d-b45b-836a5c7a0a06",
   "metadata": {
    "tags": []
   },
   "outputs": [
    {
     "name": "stdout",
     "output_type": "stream",
     "text": [
      "core.import_pose.import_pose: File '1W3L.clean.pdb' automatically determined to be of type PDB\n",
      "core.io.util: Found 0 glycan linkages in the structure based on atomic distances\n",
      "core.io.util: Automatic glycan connection is activated.\n",
      "core.io.util: Start reordering residues.\n",
      "core.io.util: Corrected glycan residue order (internal numbering): []\n",
      "core.io.util:\n",
      "core.io.util: Found 0 glycan linkages in the structure based on atomic distances\n"
     ]
    }
   ],
   "source": [
    "pose = pyrosetta.toolbox.pose_from_rcsb('1w3l',ATOM=1)"
   ]
  },
  {
   "cell_type": "code",
   "execution_count": 11,
   "id": "3f651667-609e-4657-b063-962289c7ac4d",
   "metadata": {
    "tags": []
   },
   "outputs": [
    {
     "data": {
      "text/plain": [
       "<pyrosetta.rosetta.core.pose.Pose at 0x12df5d9b0>"
      ]
     },
     "execution_count": 11,
     "metadata": {},
     "output_type": "execute_result"
    }
   ],
   "source": [
    "pose"
   ]
  },
  {
   "cell_type": "code",
   "execution_count": 9,
   "id": "fea4f40c-7b94-4f7c-8623-7af967934f08",
   "metadata": {},
   "outputs": [
    {
     "data": {
      "text/plain": [
       "'1HGG.pdb'"
      ]
     },
     "execution_count": 9,
     "metadata": {},
     "output_type": "execute_result"
    }
   ],
   "source": [
    "ls[0]"
   ]
  },
  {
   "cell_type": "code",
   "execution_count": 12,
   "id": "5c8a52f1-6872-475c-86a7-60ff0411a35d",
   "metadata": {
    "tags": []
   },
   "outputs": [
    {
     "data": {
      "text/plain": [
       "False"
      ]
     },
     "execution_count": 12,
     "metadata": {},
     "output_type": "execute_result"
    }
   ],
   "source": [
    "r = pose.residue(305)\n",
    "r.is_carbohydrate()"
   ]
  },
  {
   "cell_type": "code",
   "execution_count": null,
   "id": "612d4423-fab8-40e9-8aa6-ef8743881ee1",
   "metadata": {},
   "outputs": [],
   "source": []
  },
  {
   "cell_type": "code",
   "execution_count": 3,
   "id": "7792ca08-683e-4b30-8f8b-7daf3c7f12b3",
   "metadata": {
    "tags": []
   },
   "outputs": [],
   "source": [
    "tree_set = pose.glycan_tree_set()"
   ]
  },
  {
   "cell_type": "code",
   "execution_count": 6,
   "id": "d2ae9529-4c52-47ab-8877-c7489db737e4",
   "metadata": {
    "tags": []
   },
   "outputs": [
    {
     "name": "stdout",
     "output_type": "stream",
     "text": [
      "None\n"
     ]
    }
   ],
   "source": [
    "print( tree_set )"
   ]
  },
  {
   "cell_type": "code",
   "execution_count": 4,
   "id": "43c38eaf-97f8-4465-9aee-388ca71b8511",
   "metadata": {
    "tags": []
   },
   "outputs": [
    {
     "ename": "AttributeError",
     "evalue": "'NoneType' object has no attribute 'get_start_points'",
     "output_type": "error",
     "traceback": [
      "\u001b[0;31m---------------------------------------------------------------------------\u001b[0m",
      "\u001b[0;31mAttributeError\u001b[0m                            Traceback (most recent call last)",
      "Cell \u001b[0;32mIn[4], line 2\u001b[0m\n\u001b[1;32m      1\u001b[0m s \u001b[38;5;241m=\u001b[39m []\n\u001b[0;32m----> 2\u001b[0m \u001b[38;5;28;01mfor\u001b[39;00m start \u001b[38;5;129;01min\u001b[39;00m tree_set\u001b[38;5;241m.\u001b[39mget_start_points():\n\u001b[1;32m      3\u001b[0m     \u001b[38;5;66;03m#dont include glycosylated bois\u001b[39;00m\n\u001b[1;32m      4\u001b[0m     parent \u001b[38;5;241m=\u001b[39m tree_set\u001b[38;5;241m.\u001b[39mget_parent(start);\n\u001b[1;32m      5\u001b[0m     \u001b[38;5;66;03m#print(parent)\u001b[39;00m\n",
      "\u001b[0;31mAttributeError\u001b[0m: 'NoneType' object has no attribute 'get_start_points'"
     ]
    }
   ],
   "source": [
    "s = []\n",
    "for start in tree_set.get_start_points():\n",
    "    #dont include glycosylated bois\n",
    "    parent = tree_set.get_parent(start);\n",
    "    #print(parent)\n",
    "    if parent != 0:\n",
    "        continue;\n",
    "    print(start, pose.pdb_info().pose2pdb(start), pose.residue_type(start).name3(), pose.residue_type(start).name())\n",
    "    s.append(start)"
   ]
  },
  {
   "cell_type": "code",
   "execution_count": 21,
   "id": "9bb97787-149b-4d15-b73f-3464c2d2d845",
   "metadata": {
    "tags": []
   },
   "outputs": [],
   "source": [
    "tree1 = tree_set.get_tree(s[0])"
   ]
  },
  {
   "cell_type": "code",
   "execution_count": 22,
   "id": "5618e246-0b68-4b19-b07a-da9a5467577c",
   "metadata": {
    "tags": []
   },
   "outputs": [
    {
     "data": {
      "text/plain": [
       "vector1_unsigned_long[1525, 1526, 1527]"
      ]
     },
     "execution_count": 22,
     "metadata": {},
     "output_type": "execute_result"
    }
   ],
   "source": [
    "tree1.get_residues()"
   ]
  },
  {
   "cell_type": "code",
   "execution_count": null,
   "id": "8e042d65-e78e-40f5-b337-404f9f95fd1e",
   "metadata": {},
   "outputs": [],
   "source": []
  },
  {
   "cell_type": "code",
   "execution_count": null,
   "id": "91633764-0223-42ed-8953-8f21bc00b091",
   "metadata": {},
   "outputs": [],
   "source": []
  },
  {
   "cell_type": "code",
   "execution_count": 23,
   "id": "5a5fea15-7170-4d7d-ae7b-01067afa62a8",
   "metadata": {
    "tags": []
   },
   "outputs": [
    {
     "ename": "RuntimeError",
     "evalue": "\n\nFile: /Volumes/MacintoshHD3/benchmark/W.fujii.release/rosetta.Fujii.release/_commits_/main/source/build/PyRosetta/macos/clang-9.0.0/python-3.8/release/source/src/core/conformation/Conformation.hh:514\n[ ERROR ] UtilityExitException\nERROR: Error in core::conformation::Conformation::residue(): The sequence position requested was greater than the number of residues in the pose.\n\n",
     "output_type": "error",
     "traceback": [
      "\u001b[0;31m---------------------------------------------------------------------------\u001b[0m",
      "\u001b[0;31mRuntimeError\u001b[0m                              Traceback (most recent call last)",
      "\u001b[0;32m<ipython-input-23-a426c88cafe5>\u001b[0m in \u001b[0;36m<module>\u001b[0;34m\u001b[0m\n\u001b[1;32m     19\u001b[0m     \u001b[0;32mfor\u001b[0m \u001b[0mj\u001b[0m \u001b[0;32min\u001b[0m \u001b[0mrange\u001b[0m\u001b[0;34m(\u001b[0m\u001b[0mpose\u001b[0m\u001b[0;34m.\u001b[0m\u001b[0msize\u001b[0m\u001b[0;34m(\u001b[0m\u001b[0;34m)\u001b[0m\u001b[0;34m-\u001b[0m\u001b[0;36m1\u001b[0m\u001b[0;34m,\u001b[0m\u001b[0;36m0\u001b[0m\u001b[0;34m,\u001b[0m\u001b[0;34m-\u001b[0m\u001b[0;36m1\u001b[0m\u001b[0;34m)\u001b[0m\u001b[0;34m:\u001b[0m\u001b[0;34m\u001b[0m\u001b[0;34m\u001b[0m\u001b[0m\n\u001b[1;32m     20\u001b[0m         \u001b[0;32mif\u001b[0m \u001b[0mj\u001b[0m \u001b[0;32mnot\u001b[0m \u001b[0;32min\u001b[0m \u001b[0mres\u001b[0m\u001b[0;34m:\u001b[0m\u001b[0;34m\u001b[0m\u001b[0;34m\u001b[0m\u001b[0m\n\u001b[0;32m---> 21\u001b[0;31m             \u001b[0mcarb\u001b[0m\u001b[0;34m.\u001b[0m\u001b[0mdelete_residue_slow\u001b[0m\u001b[0;34m(\u001b[0m\u001b[0mj\u001b[0m\u001b[0;34m)\u001b[0m\u001b[0;34m\u001b[0m\u001b[0;34m\u001b[0m\u001b[0m\n\u001b[0m\u001b[1;32m     22\u001b[0m     \u001b[0;31m#print(carb)\u001b[0m\u001b[0;34m\u001b[0m\u001b[0;34m\u001b[0m\u001b[0;34m\u001b[0m\u001b[0m\n\u001b[1;32m     23\u001b[0m \u001b[0;34m\u001b[0m\u001b[0m\n",
      "\u001b[0;31mRuntimeError\u001b[0m: \n\nFile: /Volumes/MacintoshHD3/benchmark/W.fujii.release/rosetta.Fujii.release/_commits_/main/source/build/PyRosetta/macos/clang-9.0.0/python-3.8/release/source/src/core/conformation/Conformation.hh:514\n[ ERROR ] UtilityExitException\nERROR: Error in core::conformation::Conformation::residue(): The sequence position requested was greater than the number of residues in the pose.\n\n"
     ]
    }
   ],
   "source": [
    "#single test\n",
    "\n",
    "out = \"\"\n",
    "\n",
    "tree_set = pose.glycan_tree_set()\n",
    "s = []\n",
    "for start in tree_set.get_start_points():\n",
    "    #skip the glycosylated glycans\n",
    "    parent = tree_set.get_parent(start);\n",
    "    if parent != 0:\n",
    "        continue;\n",
    "    #print(start, pose.pdb_info().pose2pdb(start), pose.residue_type(start).name3(), pose.residue_type(start).name())\n",
    "    s.append(start)\n",
    "\n",
    "prot = pose.clone()\n",
    "    \n",
    "ind = 0;\n",
    "for i in s:\n",
    "    tree = tree_set.get_tree(i)\n",
    "    \n",
    "    \n",
    "    res = np.array(tree.get_residues())\n",
    "    carb = pose.clone()\n",
    "    for j in range(pose.size()-1,0,-1):\n",
    "        if j not in res:\n",
    "            carb.delete_residue_slow(j)\n",
    "    #print(carb)\n",
    "    \n",
    "    \n",
    "    #save the carb\n",
    "    carb.dump_pdb('pdb_pre/1bag_carb' + str(ind) + \".pdb\")\n",
    "    \n",
    "    #relax the carb and save rosetta relax\n",
    "    #fr.apply(carb)\n",
    "    #carb.dump_pdb('pdb_pre/1bag_carb' + str(ind) + \"_rosRel.pdb\")\n",
    "    \n",
    "    ind += 1;\n",
    "    \n",
    "\n",
    "#have a clean protein file\n",
    "for j in range(prot.size(),0,-1):\n",
    "    #print(j)\n",
    "    if prot.residue(j).is_protein():\n",
    "        continue;\n",
    "    print(j)\n",
    "    prot.delete_residue_slow(j)\n",
    "    \n",
    "\n",
    "#output the fasta\n",
    "for ii in range(1,prot.num_chains()+1):\n",
    "    out += \">1BAG_\" + str(ii) + \"\\n\"\n",
    "    out += prot.chain_sequence(ii) + \"\\n\"\n",
    "    \n",
    "prot.dump_pdb('pdb_pre/1bag_prot.pdb')\n",
    "#print(out)\n",
    "    "
   ]
  },
  {
   "cell_type": "code",
   "execution_count": 36,
   "id": "1d282945-1f4b-40d7-aa97-7f582f5d0635",
   "metadata": {},
   "outputs": [],
   "source": [
    "r = pose.residue(3)"
   ]
  },
  {
   "cell_type": "code",
   "execution_count": 37,
   "id": "4471b50e-d48b-4ab1-bdba-97e4a070f497",
   "metadata": {},
   "outputs": [
    {
     "data": {
      "text/plain": [
       "19"
      ]
     },
     "execution_count": 37,
     "metadata": {},
     "output_type": "execute_result"
    }
   ],
   "source": [
    "r.natoms()"
   ]
  },
  {
   "cell_type": "code",
   "execution_count": 38,
   "id": "57d16389-fc2b-4fa4-b646-a52b6abe09e0",
   "metadata": {},
   "outputs": [
    {
     "data": {
      "text/plain": [
       "'LEU'"
      ]
     },
     "execution_count": 38,
     "metadata": {},
     "output_type": "execute_result"
    }
   ],
   "source": [
    "r.name3()"
   ]
  },
  {
   "cell_type": "code",
   "execution_count": 45,
   "id": "2080b440-946b-473d-8efb-077af751057d",
   "metadata": {},
   "outputs": [
    {
     "ename": "RuntimeError",
     "evalue": "\n\nFile: /Volumes/MacintoshHD3/benchmark/W.fujii.release/rosetta.Fujii.release/_commits_/main/source/src/core/pose/Pose.cc:1444\n[ ERROR ] UtilityExitException\nERROR: Pose::beta( Size const seqpos ): residue seqpos is not part of a Nucleic Acid!\n\n",
     "output_type": "error",
     "traceback": [
      "\u001b[0;31m---------------------------------------------------------------------------\u001b[0m",
      "\u001b[0;31mRuntimeError\u001b[0m                              Traceback (most recent call last)",
      "\u001b[0;32m<ipython-input-45-bea7522244de>\u001b[0m in \u001b[0;36m<module>\u001b[0;34m\u001b[0m\n\u001b[0;32m----> 1\u001b[0;31m \u001b[0mpose\u001b[0m\u001b[0;34m.\u001b[0m\u001b[0mbeta\u001b[0m\u001b[0;34m(\u001b[0m\u001b[0;36m3\u001b[0m\u001b[0;34m)\u001b[0m\u001b[0;34m\u001b[0m\u001b[0;34m\u001b[0m\u001b[0m\n\u001b[0m",
      "\u001b[0;31mRuntimeError\u001b[0m: \n\nFile: /Volumes/MacintoshHD3/benchmark/W.fujii.release/rosetta.Fujii.release/_commits_/main/source/src/core/pose/Pose.cc:1444\n[ ERROR ] UtilityExitException\nERROR: Pose::beta( Size const seqpos ): residue seqpos is not part of a Nucleic Acid!\n\n"
     ]
    }
   ],
   "source": [
    "pose.beta(3)"
   ]
  },
  {
   "cell_type": "code",
   "execution_count": 50,
   "id": "81fdb4eb-0bff-4d5d-868b-e146db86937e",
   "metadata": {},
   "outputs": [
    {
     "data": {
      "text/plain": [
       "135.18"
      ]
     },
     "execution_count": 50,
     "metadata": {},
     "output_type": "execute_result"
    }
   ],
   "source": [
    "p = pose.pdb_info()\n",
    "p.bfactor(4,2)"
   ]
  },
  {
   "cell_type": "code",
   "execution_count": 19,
   "id": "9c5886a7-f705-48f4-a9e7-979bae27ddc7",
   "metadata": {},
   "outputs": [
    {
     "name": "stdout",
     "output_type": "stream",
     "text": [
      " N  \n",
      " CA \n",
      " C  \n",
      " O  \n",
      " CB \n",
      " CG \n",
      " CD1\n",
      " CD2\n",
      " H  \n",
      " HA \n",
      "1HB \n",
      "2HB \n",
      " HG \n",
      "1HD1\n",
      "2HD1\n",
      "3HD1\n",
      "1HD2\n",
      "2HD2\n",
      "3HD2\n"
     ]
    }
   ],
   "source": [
    "for i in range(1,20):\n",
    "    print(r.atom_name(i))"
   ]
  },
  {
   "cell_type": "code",
   "execution_count": 9,
   "id": "37cc175e-e174-45e1-8073-1a07536bb83e",
   "metadata": {
    "tags": []
   },
   "outputs": [],
   "source": [
    "def dump_res_pdb(pose,res,file):\n",
    "    \n",
    "    \n",
    "    anum = 1;\n",
    "    resnum = 1;\n",
    "    out = ''\n",
    "\n",
    "    for ii in res:\n",
    "        \n",
    "        r = pose.residue(ii)\n",
    "        resnum = r.pose2\n",
    "\n",
    "        for a in range(1,r.natoms()+1):\n",
    "            \n",
    "            aname = r.atom_name(a)\n",
    "            if 'H' in aname:\n",
    "                continue;\n",
    "            if 'V' in aname:\n",
    "                continue;\n",
    "            \n",
    "            out += \"ATOM  \"\n",
    "            out += str(anum).rjust(5) + ' '\n",
    "            out += aname\n",
    "            out += ' ' # no alt location indicator\n",
    "            out += r.name3().ljust(4)\n",
    "            out += 'A'\n",
    "            out += str(ii).rjust(4)\n",
    "            out += '   '\n",
    "            #print(m.coor[a,:])\n",
    "            coor = r.xyz(a)\n",
    "            c = str( round(coor[0],3) )\n",
    "            while len( c.split('.')[1] ) < 3:\n",
    "                c += '0'\n",
    "            out += c.rjust(8)\n",
    "            c = str( round(coor[1],3) )\n",
    "            while len( c.split('.')[1] ) < 3:\n",
    "                c += '0'\n",
    "            out += c.rjust(8)\n",
    "            c = str( round(coor[2],3) )\n",
    "            while len( c.split('.')[1] ) < 3:\n",
    "                c += '0'\n",
    "            out += c.rjust(8)\n",
    "\n",
    "\n",
    "            #out += str( round(m.coor[a,1],3) ).rjust(8)\n",
    "            #out += str( round(m.coor[a,2],3) ).rjust(8)\n",
    "\n",
    "            out += '\\n'\n",
    "            anum += 1\n",
    "        resnum += 1\n",
    "\n",
    "    \n",
    "    return out\n",
    "    "
   ]
  },
  {
   "cell_type": "code",
   "execution_count": 10,
   "id": "fae3150b-f1c0-4054-ab85-928a8908b53a",
   "metadata": {
    "tags": []
   },
   "outputs": [
    {
     "ename": "NameError",
     "evalue": "name 'pose' is not defined",
     "output_type": "error",
     "traceback": [
      "\u001b[0;31m---------------------------------------------------------------------------\u001b[0m",
      "\u001b[0;31mNameError\u001b[0m                                 Traceback (most recent call last)",
      "Cell \u001b[0;32mIn[10], line 61\u001b[0m\n\u001b[1;32m     58\u001b[0m     \u001b[38;5;66;03m#print(out)\u001b[39;00m\n\u001b[1;32m     59\u001b[0m     \u001b[38;5;28;01mreturn\u001b[39;00m out\n\u001b[0;32m---> 61\u001b[0m output_pdbs(\u001b[38;5;124m'\u001b[39m\u001b[38;5;124m1hgg\u001b[39m\u001b[38;5;124m'\u001b[39m,pose)\n",
      "\u001b[0;31mNameError\u001b[0m: name 'pose' is not defined"
     ]
    }
   ],
   "source": [
    "def output_pdbs(name,pose):\n",
    "\n",
    "    out = \"\"\n",
    "\n",
    "    #get the number of trees\n",
    "    tree_set = pose.glycan_tree_set()\n",
    "    s = []\n",
    "    for start in tree_set.get_start_points():\n",
    "        #skip the glycosylated glycans\n",
    "        parent = tree_set.get_parent(start);\n",
    "        if parent != 0:\n",
    "            continue;\n",
    "        #print(start, pose.pdb_info().pose2pdb(start), pose.residue_type(start).name3(), pose.residue_type(start).name())\n",
    "        s.append(start)\n",
    "\n",
    "    #print(pose.size())\n",
    "    #prot = pose.clone()\n",
    "\n",
    "    ind = 0;\n",
    "    for i in s:\n",
    "        tree = tree_set.get_tree(i)\n",
    "        res = np.array(tree.get_residues())\n",
    "        #carb = pose.clone()\n",
    "        \n",
    "\n",
    "        print( dump_res_pdb(pose,res,'') )\n",
    "\n",
    "        #print(carb)\n",
    "\n",
    "\n",
    "        #save the carb\n",
    "        #carb.dump_pdb('pdb_pre/' + name + '_carb' + str(ind) + \".pdb\")\n",
    "\n",
    "        #relax the carb and save rosetta relax\n",
    "        #fr.apply(carb)\n",
    "        #carb.dump_pdb('pdb_pre/' + name + '_carb' + str(ind) + \"_rosRel.pdb\")\n",
    "\n",
    "        #ind += 1;\n",
    "\n",
    "    #print(pose.size(),carb.size(),prot.size())\n",
    "    #have a clean protein file\n",
    "    for j in range(prot.size(),0,-1):\n",
    "        #print(j)\n",
    "        if j == 0:\n",
    "            break;\n",
    "        if prot.residue(j).is_protein():\n",
    "            continue;\n",
    "        #print(j)\n",
    "        prot.delete_residue_slow(j)\n",
    "\n",
    "    #print(pose.size(),carb.size(),prot.size())\n",
    "    #output the fasta\n",
    "    for ii in range(1,prot.num_chains()+1):\n",
    "        out += \">\" + name + \"_\" + str(ii) + \"\\n\"\n",
    "        out += prot.chain_sequence(ii) + \"\\n\"\n",
    "\n",
    "    prot.dump_pdb('pdb_pre/' + name + '_prot.pdb')\n",
    "    #print(out)\n",
    "    return out\n",
    "    \n",
    "output_pdbs('1hgg',pose)"
   ]
  },
  {
   "cell_type": "code",
   "execution_count": null,
   "id": "af79172b-cf5e-436d-bed0-b4e4b577cf09",
   "metadata": {},
   "outputs": [],
   "source": []
  },
  {
   "cell_type": "code",
   "execution_count": null,
   "id": "f0d84cd0-6d2f-4abc-8aa8-5236ea0de082",
   "metadata": {
    "tags": []
   },
   "outputs": [],
   "source": [
    "#output_pdbs('1bag',pyrosetta.toolbox.pose_from_rcsb('1bag'.upper(),ATOM=False))\n",
    "#output_pdbs('1hgg',pose)"
   ]
  },
  {
   "cell_type": "code",
   "execution_count": 18,
   "id": "26a25079-df1c-4e4f-8f6b-994a52d77bb2",
   "metadata": {
    "tags": []
   },
   "outputs": [
    {
     "name": "stdout",
     "output_type": "stream",
     "text": [
      "1HGG.pdb\n"
     ]
    },
    {
     "name": "stderr",
     "output_type": "stream",
     "text": [
      "\n",
      "ERROR: Residue::carbohydrate_info(): This residue is not a carbohydrate!\n",
      "ERROR:: Exit from: /Volumes/scratch/w/rosetta/commits/rosetta/source/src/core/conformation/Residue.cc line: 419\n"
     ]
    },
    {
     "ename": "RuntimeError",
     "evalue": "\n\nFile: /Volumes/scratch/w/rosetta/commits/rosetta/source/src/core/conformation/Residue.cc:419\n[ ERROR ] UtilityExitException\nERROR: Residue::carbohydrate_info(): This residue is not a carbohydrate!\n\n",
     "output_type": "error",
     "traceback": [
      "\u001b[0;31m---------------------------------------------------------------------------\u001b[0m",
      "\u001b[0;31mRuntimeError\u001b[0m                              Traceback (most recent call last)",
      "Cell \u001b[0;32mIn[18], line 10\u001b[0m\n\u001b[1;32m      8\u001b[0m \u001b[38;5;28mprint\u001b[39m(pdb)\n\u001b[1;32m      9\u001b[0m \u001b[38;5;66;03m#pose = pyrosetta.toolbox.pose_from_rcsb(pdb.upper(),ATOM=False)\u001b[39;00m\n\u001b[0;32m---> 10\u001b[0m pose \u001b[38;5;241m=\u001b[39m pose_from_pdb(\u001b[38;5;124m'\u001b[39m\u001b[38;5;124m./pdbs/\u001b[39m\u001b[38;5;124m'\u001b[39m \u001b[38;5;241m+\u001b[39m pdb)\n\u001b[1;32m     11\u001b[0m fa \u001b[38;5;241m+\u001b[39m\u001b[38;5;241m=\u001b[39m output_pdbs(pdb,pose)\n\u001b[1;32m     13\u001b[0m f \u001b[38;5;241m=\u001b[39m \u001b[38;5;28mopen\u001b[39m(\u001b[38;5;124m'\u001b[39m\u001b[38;5;124mpdbs/fasta.fa\u001b[39m\u001b[38;5;124m'\u001b[39m,\u001b[38;5;124m'\u001b[39m\u001b[38;5;124mw+\u001b[39m\u001b[38;5;124m'\u001b[39m)\n",
      "File \u001b[0;32m~/anaconda3/lib/python3.11/site-packages/pyrosetta/io/__init__.py:20\u001b[0m, in \u001b[0;36mpose_from_pdb\u001b[0;34m(filename)\u001b[0m\n\u001b[1;32m     19\u001b[0m \u001b[38;5;28;01mdef\u001b[39;00m \u001b[38;5;21mpose_from_pdb\u001b[39m(filename):\n\u001b[0;32m---> 20\u001b[0m     \u001b[38;5;28;01mreturn\u001b[39;00m pose_from_file(filename)\n",
      "\u001b[0;31mRuntimeError\u001b[0m: \n\nFile: /Volumes/scratch/w/rosetta/commits/rosetta/source/src/core/conformation/Residue.cc:419\n[ ERROR ] UtilityExitException\nERROR: Residue::carbohydrate_info(): This residue is not a carbohydrate!\n\n"
     ]
    }
   ],
   "source": [
    "fa = ''\n",
    "for ii in ls[:10]:\n",
    "\n",
    "    #print(ii[0])\n",
    "    #try:\n",
    "        #pdb = ii[0]\n",
    "        pdb = ii\n",
    "        print(pdb)\n",
    "        #pose = pyrosetta.toolbox.pose_from_rcsb(pdb.upper(),ATOM=False)\n",
    "        pose = pose_from_pdb('./pdbs/' + pdb)\n",
    "        fa += output_pdbs(pdb,pose)\n",
    "\n",
    "        f = open('pdbs/fasta.fa','w+')\n",
    "        f.write(fa)\n",
    "        f.close()\n",
    "    #except:\n",
    "    #    print(\"Unable: \",pdb)\n",
    "    \n",
    "    #break;"
   ]
  },
  {
   "cell_type": "code",
   "execution_count": null,
   "id": "25e2db8e-eb84-4eba-ac6e-4457c462f60c",
   "metadata": {},
   "outputs": [],
   "source": []
  }
 ],
 "metadata": {
  "kernelspec": {
   "display_name": "Python 3",
   "language": "python",
   "name": "python3"
  },
  "language_info": {
   "codemirror_mode": {
    "name": "ipython",
    "version": 3
   },
   "file_extension": ".py",
   "mimetype": "text/x-python",
   "name": "python",
   "nbconvert_exporter": "python",
   "pygments_lexer": "ipython3",
   "version": "3.8.8"
  }
 },
 "nbformat": 4,
 "nbformat_minor": 5
}
