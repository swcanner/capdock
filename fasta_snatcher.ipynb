{
 "cells": [
  {
   "cell_type": "code",
   "execution_count": 5,
   "id": "75cb806a-1412-471b-a420-4952612e92c8",
   "metadata": {},
   "outputs": [],
   "source": [
    "from Bio.PDB import *\n",
    "from Bio import SeqIO\n",
    "from utils.carb_utils import *\n",
    "#import matplotlib.pyplot as plt\n",
    "from scipy.spatial import distance_matrix as dm\n",
    "\n",
    "\n",
    "#-alternate_3_letter_codes pdb_sugar\n",
    "#-out:level 100\n",
    "\n",
    "#-beta\n",
    "#-auto_detect_glycan_connections\n",
    "#-alternate_3_letter_codes pdb_sugar\n",
    "\n",
    "\n",
    "\n",
    "import os\n",
    "import numpy as np\n",
    "import pandas as pd\n",
    "import copy\n",
    "\n",
    "BOND_CUT = 1.75\n",
    "INTERACT = 4.5\n",
    "\n",
    "input_dir = \"./\"\n",
    "os.chdir(input_dir)"
   ]
  },
  {
   "cell_type": "code",
   "execution_count": 4,
   "id": "3fe458ac-2c7e-4584-8a68-8c75634861c3",
   "metadata": {},
   "outputs": [
    {
     "name": "stdout",
     "output_type": "stream",
     "text": [
      "3578\n"
     ]
    }
   ],
   "source": [
    "ls = os.listdir('./pdb_pre/')\n",
    "print(len(ls) // 3)"
   ]
  },
  {
   "cell_type": "code",
   "execution_count": 7,
   "id": "2b13b5fb-835f-4f0d-9a9e-a3d41124710f",
   "metadata": {},
   "outputs": [],
   "source": [
    "aminoacid={}\n",
    "aminoacid[\"ALA\"]=\"A\"\n",
    "aminoacid[\"CYS\"]=\"C\"\n",
    "aminoacid[\"ASP\"]=\"D\"\n",
    "aminoacid[\"GLU\"]=\"E\"\n",
    "aminoacid[\"PHE\"]=\"F\"\n",
    "aminoacid[\"GLY\"]=\"G\"\n",
    "aminoacid[\"HIS\"]=\"H\"\n",
    "aminoacid[\"ILE\"]=\"I\"\n",
    "aminoacid[\"LYS\"]=\"K\"\n",
    "aminoacid[\"LEU\"]=\"L\"\n",
    "aminoacid[\"MET\"]=\"M\"\n",
    "aminoacid[\"MSE\"]=\"M\"\n",
    "aminoacid[\"ASN\"]=\"N\"\n",
    "aminoacid[\"PRO\"]=\"P\"\n",
    "aminoacid[\"GLN\"]=\"Q\"\n",
    "aminoacid[\"ARG\"]=\"R\"\n",
    "aminoacid[\"SER\"]=\"S\"\n",
    "aminoacid[\"THR\"]=\"T\"\n",
    "aminoacid[\"VAL\"]=\"V\"\n",
    "aminoacid[\"TRP\"]=\"W\"\n",
    "aminoacid[\"UNK\"]=\"X\"\n",
    "aminoacid[\"TYR\"]=\"Y\"\n",
    "aminoacid[\"CYD\"]=\"C\"\n"
   ]
  },
  {
   "cell_type": "code",
   "execution_count": 8,
   "id": "1eeb3a21-bf6f-4fc4-a170-1311384cb88a",
   "metadata": {},
   "outputs": [],
   "source": [
    "def get_fasta(structure,name):\n",
    "    fa = \"\"\n",
    "\n",
    "    models = structure.get_models()\n",
    "    models = list(models)\n",
    "    for m in range(len(models)):\n",
    "        chains = list(models[m].get_chains())\n",
    "        for c in range(len(chains)):\n",
    "            \n",
    "            residues = list(chains[c].get_residues())\n",
    "            \n",
    "            fa += '>' + name + '_' + chains[c].id.strip() + '\\n'\n",
    "            \n",
    "            for r in range(len(residues)):\n",
    "                res = residues[r].get_resname()\n",
    "                fa += aminoacid[res]\n",
    "            fa += '\\n'\n",
    "                        \n",
    "        return fa"
   ]
  },
  {
   "cell_type": "code",
   "execution_count": 16,
   "id": "070923fd-4b8a-45b5-afd9-9be98cc6d930",
   "metadata": {},
   "outputs": [
    {
     "name": "stdout",
     "output_type": "stream",
     "text": [
      "0\n",
      "500\n",
      "1000\n",
      "1500\n",
      "2000\n",
      "2500\n",
      "3000\n",
      "3500\n",
      "4000\n",
      "4500\n",
      "5000\n"
     ]
    },
    {
     "name": "stderr",
     "output_type": "stream",
     "text": [
      "/Users/scanner1/opt/anaconda3/lib/python3.8/site-packages/Bio/PDB/PDBParser.py:236: PDBConstructionWarning: Negative occupancy in one or more atoms\n",
      "  warnings.warn(\n",
      "/Users/scanner1/opt/anaconda3/lib/python3.8/site-packages/Bio/PDB/PDBParser.py:236: PDBConstructionWarning: Negative occupancy in one or more atoms\n",
      "  warnings.warn(\n"
     ]
    },
    {
     "name": "stdout",
     "output_type": "stream",
     "text": [
      "5500\n",
      "6000\n",
      "6500\n",
      "7000\n",
      "7500\n",
      "8000\n",
      "8500\n",
      "9000\n",
      "9500\n",
      "10000\n",
      "10500\n"
     ]
    }
   ],
   "source": [
    "fasta = ''\n",
    "\n",
    "parser=PDBParser()\n",
    "\n",
    "\n",
    "\n",
    "for ii in range(len(ls)):\n",
    "    pdb = ls[ii]\n",
    "    \n",
    "    if ii % 500 == 0:\n",
    "        print(ii)\n",
    "    \n",
    "    if '_prot' not in pdb:\n",
    "        continue;\n",
    "        \n",
    "    p = pdb.split('.')[0][:4]\n",
    "    \n",
    "    #if ii == 2:\n",
    "    #    break;\n",
    "    try:\n",
    "        structure=parser.get_structure(\"prot\", 'pdb_pre/'+ pdb)\n",
    "        #print(ii,pdb)\n",
    "    \n",
    "    \n",
    "    \n",
    "        fasta += get_fasta(structure,p)\n",
    "    except:\n",
    "        bad.append(pdb)\n",
    "        \n",
    "    #if ii >= 10:\n",
    "    #    break;\n",
    "    \n",
    "    \n",
    "f = open('pdb_pre/all_fasta.fa','w+')\n",
    "f.write(fasta)\n",
    "f.close()"
   ]
  },
  {
   "cell_type": "code",
   "execution_count": 14,
   "id": "be0e4021-3853-46ef-8393-2297ef7bdf09",
   "metadata": {},
   "outputs": [
    {
     "name": "stdout",
     "output_type": "stream",
     "text": [
      ">2ggu_A\n",
      "ASLRQQVEALQGQVQHLQAAFSQYKKVELFPNGQSVGEKIFKTAGFVKPFTEAQLLCTQAGGQLASPRSAAENAALQQLVVAKNEAAFLSMTDSKTEGKFTYPTGESLVYSNWAPGEPNDDGGSEDCVEIFTNGKWNDRACGEKRLVVCEF\n",
      ">2ggu_B\n",
      "ASLRQQVEALQGQVQHLQAAFSQYKKVELFPNGQSVGEKIFKTAGFVKPFTEAQLLCTQAGGQLASPRSAAENAALQQLVVAKNEAAFLSMTDSKTEGKFTYPTGESLVYSNWAPGEPNDDGGSEDCVEIFTNGKWNDRACGEKRLVVCEF\n",
      ">2ggu_C\n",
      "ASLRQQVEALQGQVQHLQAAFSQYKKVELFPNGQSVGEKIFKTAGFVKPFTEAQLLCTQAGGQLASPRSAAENAALQQLVVAKNEAAFLSMTDSKTEGKFTYPTGESLVYSNWAPGEPNDDGGSEDCVEIFTNGKWNDRACGEKRLVVCEF\n",
      ">5A8O_A\n",
      "NDWWDIPYPSQFDVKSLKTQSFISVKGNKFIDDKGKTFTFRGVNIADTGKLLSRNQWQKSLFEELANNWGVNTIRLPIHPVSWRKLGPDVYLGHIDEAVRWANDLGIYLILDWHSIGYLPTEQYQHPMYDTTIKETRDFWRRITFRYQNVPTVAVYELFNEPTTMGNTLGERNWAEWKTLNESLIDMIYASDKTVIPLVAGFNWAYDLSPIKKAPIEREGIAYAAHPYPQKAKPEVKNDKNFFKLWDEKWGFAADTYPVIATQLGWVQPDGYGAHIPVKDDGSYGPRIVKYMQKKGVSYTVWVFDPDWSPTMINDWDFTPSEQGAFFKQVMLEAKK\n",
      ">6A87_A\n",
      "APVPVTKLVCDGDTYKCTAYLDYGDGKWVAQWDTAVFHTT\n",
      ">6A87_B\n",
      "APVPVTKLVCDGDTYKCTAYLDYGDGKWVAQWDTAVFHTT\n",
      ">6A87_C\n",
      "APVPVTKLVCDGDTYKCTAYLDYGDGKWVAQWDTAVFHTT\n",
      ">6A87_D\n",
      "APVPVTKLVCDGDTYKCTAYLDYGDGKWVAQWDTAVFHT\n",
      ">6A87_E\n",
      "APVPVTKLVCDGDTYKCTAYLDYGDGKWVAQWDTAVFHTT\n",
      ">6A87_F\n",
      "APVPVTKLVCDGDTYKCTAYLDYGDGKWVAQWDTAVFHT\n",
      ">1B3V_A\n",
      "ASVSIDAKFKAHGKKYLGTIGDQYTLTKNTKNPAIIKADFGQLTPENSMKWDATEPNRGQFTFSGSDYLVNFAQSNGKLIRGHTLVWHSQLPGWVSSITDKNTLISVLKNHITTVMTRYKGKIYAWDVLNEIFNEDGSLRNSVFYNVIGEDYVRIAFETARSVDPNAKLYINDYNLDSAGYSKVNGMVSHVKKWLAAGIPIDGIGSQTHLGAGAGSAVAGALNALASAGTKEIAITELDIAGASSTDYVNVVNACLNQAKCVGITVWGVADPDSWRSSSSPLLFDGNYNPKAAYNAIANAL\n",
      ">1Q6G_A\n",
      "NMLLNYVPVYVMLPLGVVNVDNVFEDPDGLKEQLLQLRAAGVDGVMVDVWWGIIELKGPKQYDWRAYRSLLQLVQECGLTLQAIMSFHQCGGNVGDIVNIPIPQWVLDIGESNHDIFYTNRSGTRNKEYLTVGVDNEPIFHGRTAIEIYSDYMKSFRENMSDFLESGLIIDIEVGLGPAGELRYPSYPQSQGWEFPGIGEFQCYDKYLKADFKAAVARAGHPEWELPDDAGKYNDVPESTGFFKSNGTYVTEKGKFFLTWYSNKLLNHGDQILDEANKAFLGCKVKLAIKVSGIHWWYKVENHAAELTAGYYNLNDRDGYRPIARMLSRHHAILTFTCLEMRDSEQPSDAKSGPQELVQQVLSGGWREDIRVAGENALPRYDATAYNQIILNARPQGVNNNGPPKLSMFGVTYLRLSDDLLQKSNFNIFKKFVLKMHADQDYCANPQKYNHAITPLKPSAPKIPIEVLLEATKPTLPFPWLPETDMKVDG\n",
      ">2WN3_A\n",
      "AMSTQGLVQLLANAQCHLRTSTNYNGVHTQFNSALNYKNNGTNTIDGSEAWCSSIVDTNQYIVAGCEVPRTFMCVALQGRGDADQWVTSYKIRYSLDNVSWFEYRNGAAVTGVTDRNTVVNHFFDTPIRARSIAIHPLTWNGHISLRCEFYTQPVQSSVTQVGADIYTGDNCALNTGSGKREVVVPVKFQFEFATLPKVALNFDQIDCTDATNQTRIGVQPRNITTKGFDCVFYTWNENKVYSLRADYIATALE\n",
      ">2WN3_B\n",
      "MSTQGLVQLLANAQCHLRTSTNYNGVHTQFNSALNYKNNGTNTIDGSEAWCSSIVDTNQYIVAGCEVPRTFMCVALQGRGDADQWVTSYKIRYSLDNVSWFEYRNGAAVTGVTDRNTVVNHFFDTPIRARSIAIHPLTWNGHISLRCEFYTQPVQSSVTQVGADIYTGDNCALNTGSGKREVVVPVKFQFEFATLPKVALNFDQIDCTDATNQTRIGVQPRNITTKGFDCVFYTWNENKVYSLRADYIATALE\n",
      ">2WN3_C\n",
      "STQGLVQLLANAQCHLRTSTNYNGVHTQFNSALNYKNNGTNTIDGSEAWCSSIVDTNQYIVAGCEVPRTFMCVALQGRGDADQWVTSYKIRYSLDNVSWFEYRNGAAVTGVTDRNTVVNHFFDTPIRARSIAIHPLTWNGHISLRCEFYTQPVQSSVTQVGADIYTGDNCALNTGSGKREVVVPVKFQFEFATLPKVALNFDQIDCTDATNQTRIGVQPRNITTKGFDCVFYTWNENKVYSLRADYIATALE\n",
      ">4P1V_A\n",
      "LTVPNIPLNNLANSRVPAMINKMTVSTDQNQVVQFQNGRCTLEGQLLGTTPVSASQVARIRGKVFSTASGKGLNLTELDGTPYHAFESPAPLGFPDIGACDWHVSTFKVDQNLSGDPMSRLDVKQNAPFAPHLGSIEFTSDQDPTGDQLGTLAWVSPSTSGARVDPWKIPSYGSTTESTHLAPPIFPPGFGEAIVYFMSDFPIVSQVPCTLPQEFVSHFVEQQAPVRGEAALLHYVDPDTHRNLGEFKLYPDGFITCVPNTGGGPQNLPTNGVFVFSSWVSRYYQLKPV\n",
      ">4P1V_B\n",
      "QLTVPNIPLNNLANSRVPAMINKMTVSTDQNQVVQFQNGRCTLEGQLLGTTPVSASQVARIRGKVFSKGLNLTELDGTPYHASPAPLGFPDIGACDWHVSTFKVDQNLSGDPMSRLDVKQNAPFAPHLGSIEFTSDQDPTGDQLGTLAWVSPSTSGARVDPWKIPSYGTHLAPPIFPPGFGEAIVYFMSDFPIVSAQVPCTLPQEFVSHFVEQQAPVRGEAALLHYVDPDTHRNLGEFKLYPDGFITCVPNTGGGPQNLPTNGVFVFSSWVSRYYQLKPV\n",
      ">4P1V_C\n",
      "QLTVPNIPLNNLANSRVPAMINKMTVSTDQNQVVQFQNGRCTLEGQLLGTTPVSASQVARIRGKVFSTASGKGLNLTELDGTPYHAFESPAPLGFPDIGACDWHVSTFKVNLSGDPMSRLDVKQNAPFAPHLGSIEFTSDQDPTGDQLGTLAWVSPSTSGARVDPWKIPSYGSESTHLAPPIFPPGFGEAIVYFMSDFPIVSGNTAQVPCTLPQEFVSHFVEQQAPVRGEAALLHYVDPDTHRNLGEFKLYPDGFITCVPNTGGGPQNLPTNGVFVFSSWVSRYYQLKPVG\n",
      ">4P1V_D\n",
      "LTVPNIPLNNLANSRVPAMINKMTVSTDQNQVVQFQNGRCTLEGQLLGTTPVSASQVARIRGKVFSTASGKGLNLTELDGTPYHAFESPAPLGFPDIGACDWHVSTFKVNLSGDPMSRLDVKQNAPFAPHLGSIEFTSDQDPTGDQLGTLAWVSPSTSGARVDPWKIPSYGSTVTESTHLAPPIFPPGFGEAIVYFMSDFPIVSAQVPCTLPQEFVSHFVEQQAPVRGEAALLHYVDPDTHRNLGEFKLYPDGFITCVPNTGGGPQNLPTNGVFVFSSWVSRYYQLKPVG\n",
      ">6XRA_C\n",
      "NSVAYSNNSIAIPTNFTISVTTEILPVSMTKTSVDCTMYICGDSTECSNLLLQYGSFCTQLNRALTGITQNVLYENQKLIANQFNSAIGKIQDSLSSTASALGKLQDVVNQNAQALNTLVKQLSSNFGAISSVLNDILSRLDKVEAEVQIDRLITGRLQSLQTYVTQQLIRAAEIRASANLAATKMSECVLGQSKRVDFCGKGYHLMSFPQSAPHGVVFLHVTYVPAQEKNFTTAPAICHDGKAHFPREGVFVSNGTHWFVTQRNFYEPQIITTDNTFVSGNCDVVIGIVNNTVYDPLQPELDSFKEELDKYFKNHTSPDVDLGDISGINQKEIDRLNEVAKNLNESL\n",
      ">6XRA_A\n",
      "NSVAYSNNSIAIPTNFTISVTTEILPVSMTKTSVDCTMYICGDSTECSNLLLQYGSFCTQLNRALTGITQNVLYENQKLIANQFNSAIGKIQDSLSSTASALGKLQDVVNQNAQALNTLVKQLSSNFGAISSVLNDILSRLDKVEAEVQIDRLITGRLQSLQTYVTQQLIRAAEIRASANLAATKMSECVLGQSKRVDFCGKGYHLMSFPQSAPHGVVFLHVTYVPAQEKNFTTAPAICHDGKAHFPREGVFVSNGTHWFVTQRNFYEPQIITTDNTFVSGNCDVVIGIVNNTVYDPLQPELDSFKEELDKYFKNHTSPDVDLGDISGINQKEIDRLNEVAKNLNESL\n",
      ">6XRA_B\n",
      "NSVAYSNNSIAIPTNFTISVTTEILPVSMTKTSVDCTMYICGDSTECSNLLLQYGSFCTQLNRALTGITQNVLYENQKLIANQFNSAIGKIQDSLSSTASALGKLQDVVNQNAQALNTLVKQLSSNFGAISSVLNDILSRLDKVEAEVQIDRLITGRLQSLQTYVTQQLIRAAEIRASANLAATKMSECVLGQSKRVDFCGKGYHLMSFPQSAPHGVVFLHVTYVPAQEKNFTTAPAICHDGKAHFPREGVFVSNGTHWFVTQRNFYEPQIITTDNTFVSGNCDVVIGIVNNTVYDPLQPELDSFKEELDKYFKNHTSPDVDLGDISGINQKEIDRLNEVAKNLNESL\n",
      "\n"
     ]
    }
   ],
   "source": [
    "print(fasta)"
   ]
  },
  {
   "cell_type": "code",
   "execution_count": null,
   "id": "b18ec0ff-2407-4114-840d-1c8680f37429",
   "metadata": {},
   "outputs": [],
   "source": []
  }
 ],
 "metadata": {
  "kernelspec": {
   "display_name": "Python 3",
   "language": "python",
   "name": "python3"
  },
  "language_info": {
   "codemirror_mode": {
    "name": "ipython",
    "version": 3
   },
   "file_extension": ".py",
   "mimetype": "text/x-python",
   "name": "python",
   "nbconvert_exporter": "python",
   "pygments_lexer": "ipython3",
   "version": "3.8.8"
  }
 },
 "nbformat": 4,
 "nbformat_minor": 5
}
