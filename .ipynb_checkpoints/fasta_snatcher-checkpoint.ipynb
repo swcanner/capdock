{
 "cells": [
  {
   "cell_type": "code",
   "execution_count": 5,
   "id": "75cb806a-1412-471b-a420-4952612e92c8",
   "metadata": {},
   "outputs": [],
   "source": [
    "from Bio.PDB import *\n",
    "from Bio import SeqIO\n",
    "from utils.carb_utils import *\n",
    "#import matplotlib.pyplot as plt\n",
    "from scipy.spatial import distance_matrix as dm\n",
    "\n",
    "\n",
    "#-alternate_3_letter_codes pdb_sugar\n",
    "#-out:level 100\n",
    "\n",
    "#-beta\n",
    "#-auto_detect_glycan_connections\n",
    "#-alternate_3_letter_codes pdb_sugar\n",
    "\n",
    "\n",
    "\n",
    "import os\n",
    "import numpy as np\n",
    "import pandas as pd\n",
    "import copy\n",
    "\n",
    "BOND_CUT = 1.75\n",
    "INTERACT = 4.5\n",
    "\n",
    "input_dir = \"./\"\n",
    "os.chdir(input_dir)"
   ]
  },
  {
   "cell_type": "code",
   "execution_count": 4,
   "id": "3fe458ac-2c7e-4584-8a68-8c75634861c3",
   "metadata": {},
   "outputs": [
    {
     "name": "stdout",
     "output_type": "stream",
     "text": [
      "3578\n"
     ]
    }
   ],
   "source": [
    "ls = os.listdir('./pdb_pre/')\n",
    "print(len(ls) // 3)"
   ]
  },
  {
   "cell_type": "code",
   "execution_count": 7,
   "id": "2b13b5fb-835f-4f0d-9a9e-a3d41124710f",
   "metadata": {},
   "outputs": [],
   "source": [
    "aminoacid={}\n",
    "aminoacid[\"ALA\"]=\"A\"\n",
    "aminoacid[\"CYS\"]=\"C\"\n",
    "aminoacid[\"ASP\"]=\"D\"\n",
    "aminoacid[\"GLU\"]=\"E\"\n",
    "aminoacid[\"PHE\"]=\"F\"\n",
    "aminoacid[\"GLY\"]=\"G\"\n",
    "aminoacid[\"HIS\"]=\"H\"\n",
    "aminoacid[\"ILE\"]=\"I\"\n",
    "aminoacid[\"LYS\"]=\"K\"\n",
    "aminoacid[\"LEU\"]=\"L\"\n",
    "aminoacid[\"MET\"]=\"M\"\n",
    "aminoacid[\"MSE\"]=\"M\"\n",
    "aminoacid[\"ASN\"]=\"N\"\n",
    "aminoacid[\"PRO\"]=\"P\"\n",
    "aminoacid[\"GLN\"]=\"Q\"\n",
    "aminoacid[\"ARG\"]=\"R\"\n",
    "aminoacid[\"SER\"]=\"S\"\n",
    "aminoacid[\"THR\"]=\"T\"\n",
    "aminoacid[\"VAL\"]=\"V\"\n",
    "aminoacid[\"TRP\"]=\"W\"\n",
    "aminoacid[\"UNK\"]=\"X\"\n",
    "aminoacid[\"TYR\"]=\"Y\"\n",
    "aminoacid[\"CYD\"]=\"C\"\n"
   ]
  },
  {
   "cell_type": "code",
   "execution_count": 8,
   "id": "1eeb3a21-bf6f-4fc4-a170-1311384cb88a",
   "metadata": {},
   "outputs": [],
   "source": [
    "def get_fasta(structure,name):\n",
    "    fa = \"\"\n",
    "\n",
    "    models = structure.get_models()\n",
    "    models = list(models)\n",
    "    for m in range(len(models)):\n",
    "        chains = list(models[m].get_chains())\n",
    "        for c in range(len(chains)):\n",
    "            \n",
    "            residues = list(chains[c].get_residues())\n",
    "            \n",
    "            fa += '>' + name + '_' + chains[c].id.strip() + '\\n'\n",
    "            \n",
    "            for r in range(len(residues)):\n",
    "                res = residues[r].get_resname()\n",
    "                fa += aminoacid[res]\n",
    "            fa += '\\n'\n",
    "                        \n",
    "        return fa"
   ]
  },
  {
   "cell_type": "code",
   "execution_count": null,
   "id": "070923fd-4b8a-45b5-afd9-9be98cc6d930",
   "metadata": {},
   "outputs": [],
   "source": [
    "fasta = ''\n",
    "\n",
    "parser=PDBParser()\n",
    "\n",
    "\n",
    "\n",
    "for ii in range(len(ls)):\n",
    "    pdb = ls[ii]\n",
    "    \n",
    "    if '_prot' not in pdb:\n",
    "        continue;\n",
    "        \n",
    "    p = pdb.split('.')[0]\n",
    "    \n",
    "    #if ii == 2:\n",
    "    #    break;\n",
    "    try:\n",
    "        structure=parser.get_structure(\"prot\", 'pdbs/'+ pdb)\n",
    "        print(ii,pdb)\n",
    "    \n",
    "    \n",
    "    \n",
    "        coor_c, coor_p, coor_x, res_c, res_p, res_x = get_coor(structure,carb,prot_aa)\n",
    "        #print(len(res_c))\n",
    "        good_c = remove_glycosylated(coor_c,coor_p,res_c,res_p,BOND_CUT=BOND_CUT)\n",
    "\n",
    "        #print(len(good_c))\n",
    "        if len(coor_x) > 0:\n",
    "            good_c = add_nonglycans(coor_c,coor_x,good_c,res_c,res_x)\n",
    "        #print(len(good_c))\n",
    "\n",
    "        chain_int = find_interactChains(coor_c,coor_p,res_c,res_p,good_c,INTERACT=INTERACT)\n",
    "\n",
    "        #output the pre-processed files\n",
    "        io.set_structure(structure)\n",
    "        io.save('./pdb_pre/' + p + '_prot.pdb', ProtSelect())\n",
    "        io.save('./pdb_pre/' + p + '_carb.pdb', GlycanSelect())\n",
    "        f = open('./pdb_pre/' + p + '_int.txt','w+')\n",
    "        f.write(chain_int)\n",
    "        f.close()\n",
    "    except:\n",
    "        bad.append(pdb)\n",
    "    "
   ]
  }
 ],
 "metadata": {
  "kernelspec": {
   "display_name": "Python 3",
   "language": "python",
   "name": "python3"
  },
  "language_info": {
   "codemirror_mode": {
    "name": "ipython",
    "version": 3
   },
   "file_extension": ".py",
   "mimetype": "text/x-python",
   "name": "python",
   "nbconvert_exporter": "python",
   "pygments_lexer": "ipython3",
   "version": "3.8.8"
  }
 },
 "nbformat": 4,
 "nbformat_minor": 5
}
