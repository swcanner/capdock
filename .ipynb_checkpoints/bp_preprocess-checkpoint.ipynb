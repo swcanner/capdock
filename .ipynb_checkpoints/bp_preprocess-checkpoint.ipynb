{
 "cells": [
  {
   "cell_type": "code",
   "execution_count": 37,
   "id": "c17f208f-bb66-4f0a-a5de-460df20fbd10",
   "metadata": {
    "tags": []
   },
   "outputs": [],
   "source": [
    "from Bio.PDB import *\n",
    "from utils.carb_utils import *\n",
    "#import matplotlib.pyplot as plt\n",
    "from scipy.spatial import distance_matrix as dm\n",
    "\n",
    "\n",
    "#-alternate_3_letter_codes pdb_sugar\n",
    "#-out:level 100\n",
    "\n",
    "#-beta\n",
    "#-auto_detect_glycan_connections\n",
    "#-alternate_3_letter_codes pdb_sugar\n",
    "\n",
    "\n",
    "\n",
    "import os\n",
    "import numpy as np\n",
    "import pandas as pd\n",
    "import copy\n",
    "\n",
    "BOND_CUT = 1.75\n",
    "INTERACT = 4.5\n",
    "\n",
    "input_dir = \"./\"\n",
    "os.chdir(input_dir)"
   ]
  },
  {
   "cell_type": "code",
   "execution_count": null,
   "id": "5567ad78-5d5b-4350-aee8-6665d5f86682",
   "metadata": {},
   "outputs": [],
   "source": []
  },
  {
   "cell_type": "code",
   "execution_count": 22,
   "id": "4306c995-fc7f-42d7-960d-d2157fbe0ffd",
   "metadata": {
    "tags": []
   },
   "outputs": [
    {
     "name": "stdout",
     "output_type": "stream",
     "text": [
      "4352\n"
     ]
    }
   ],
   "source": [
    "ls = os.listdir('./pdbs')\n",
    "print(len(ls))"
   ]
  },
  {
   "cell_type": "code",
   "execution_count": null,
   "id": "2375e0d4-6eb6-4989-974d-7936e8ad38a2",
   "metadata": {},
   "outputs": [],
   "source": []
  },
  {
   "cell_type": "code",
   "execution_count": 39,
   "id": "6e2e16a7-ad70-45b8-a096-fb6e07be8ae1",
   "metadata": {
    "tags": []
   },
   "outputs": [
    {
     "name": "stdout",
     "output_type": "stream",
     "text": [
      "['NAG', 'BGC', 'GLC', 'MAN', 'GAL', 'FUC', 'BMA', 'BM3', 'BNG', 'XYP', 'UD1', 'A2G', 'UMQ', 'NGA', 'GDU', 'BG6', 'SLB', 'SIA', 'NEU', 'F6R', 'X6X', 'P6F', 'PA1', '1GN', 'RAM', 'ABE', 'GCU', 'ASG', 'LGU', 'AHR', 'GTK', 'BDP', 'LFR', 'RIP']\n"
     ]
    }
   ],
   "source": [
    "gly = '''N-acetyl-beta-D-glucosamine (NAG), beta-D-glucopyranose (BGC),\n",
    "alpha-D-glucopyranose (GLC), alpha-D-mannopyranose (MAN),\n",
    "beta-D-galactopyranose (GAL), alpha-L-fucopyranose (FUC),\n",
    "beta-D-mannopyranose (BMA), N-acetyl-alpha-D-mannosamine (BM3), nonyl\n",
    "beta-D-glucopyranoside (BNG), beta-D-xylopyranose (XYP),\n",
    "uridine-diphosphate-n-acetylglucosamine (UD1), N-acetyl-alpha-D-galactosamine\n",
    "(A2G), undecyl-maltoside (UMQ), N-acetyl-beta-D-galactosamine (NGA),\n",
    "galactose-uridine-5-diphosphate (GDU), 6-O-phosphono-beta-D-glucopyranose\n",
    "(BG6), N-acetyl-beta-neuraminic acid (SLB), N-acetyl-alpha-neuraminic acid (SIA), (NEU),\n",
    "fructose -6-phosphate (F6R), alpha-D-galactopyranose (X6X),\n",
    "1,6-di-O-phosphono-D-fructose (P6F), 2-amino-2-deoxy-alpha-D-glucopyranose\n",
    "(PA1), 2-amino-2-deoxy-beta-D-galactopyranose (1GN), alpha-L-rhamnopyranose\n",
    "(RAM), alpha-D-Abequopyranose (ABE), alpha-D-glucopyranuronic acid (GCU),\n",
    "2-acetamido-2-deoxy-4-O-sulfo-beta-D-galactopyranose (ASG),\n",
    "alpha-L-gulopyranuronic acid (LGU), alpha-L-arabinofuranose (AHR),\n",
    "beta-D-galactofuranuronic acid (GTK), beta-D-glucopyranuronic acid (BDP),\n",
    "beta-L-fructofuranose (LFR) and cyclodextrins, beta-D-ribopyranose (RIP), '''\n",
    "\n",
    "carb = [];\n",
    "gly = gly.split('(')\n",
    "#print(gly)\n",
    "for jj in range(len(gly)):\n",
    "    if ')' in gly[jj]:\n",
    "        carb.append(gly[jj].split(')')[0])\n",
    "print(carb)"
   ]
  },
  {
   "cell_type": "code",
   "execution_count": 24,
   "id": "953e21e2-96c0-4acd-bcf8-6a1bd8385004",
   "metadata": {
    "tags": []
   },
   "outputs": [],
   "source": [
    "aa_inv = {\n",
    "    \"H\": \"HIS\",\n",
    "    \"K\": \"LYS\",\n",
    "    \"R\": \"ARG\",\n",
    "    \"D\": \"ASP\",\n",
    "    \"E\": \"GLU\",\n",
    "    \"S\": \"SER\",\n",
    "    \"T\": \"THR\",\n",
    "    \"N\": \"ASN\",\n",
    "    \"Q\": \"GLN\",\n",
    "    \"A\": \"ALA\",\n",
    "    \"V\": \"VAL\",\n",
    "    \"L\": \"LEU\",\n",
    "    \"I\": \"ILE\",\n",
    "    \"M\": \"MET\",\n",
    "    \"F\": \"PHE\",\n",
    "    \"Y\": \"TYR\",\n",
    "    \"W\": \"TRP\",\n",
    "    \"P\": \"PRO\",\n",
    "    \"G\": \"GLY\",\n",
    "    \"C\": \"CYS\",\n",
    "    \"X\": \"MSE\",\n",
    "    \"Z\": \"CYD\"\n",
    "}\n",
    "aa_inv.keys()\n",
    "prot_aa = aa_inv.values()"
   ]
  },
  {
   "cell_type": "code",
   "execution_count": null,
   "id": "55760051-fc36-459a-80fc-74364d7b6287",
   "metadata": {
    "tags": []
   },
   "outputs": [],
   "source": []
  },
  {
   "cell_type": "code",
   "execution_count": 34,
   "id": "bf3b1d3b-ef77-4be7-85c6-1b2bba113318",
   "metadata": {},
   "outputs": [],
   "source": [
    "def get_coor(structure,carb,prot_aa):\n",
    "    coor_c = []\n",
    "    coor_p = []\n",
    "    res_c = []\n",
    "    res_p = []\n",
    "\n",
    "    coor_x = []\n",
    "    res_x = []\n",
    "\n",
    "    models = structure.get_models()\n",
    "    models = list(models)\n",
    "    for m in range(len(models)):\n",
    "        chains = list(models[m].get_chains())\n",
    "        for c in range(len(chains)):\n",
    "            residues = list(chains[c].get_residues())\n",
    "            for r in range(len(residues)):\n",
    "                res = residues[r].get_resname()\n",
    "                if res == 'HOH':\n",
    "                    continue;\n",
    "\n",
    "                atoms = list(residues[r].get_atoms())\n",
    "\n",
    "                for a in range(len(atoms)):\n",
    "                    at = atoms[a]\n",
    "\n",
    "                    if 'H' in at.get_name():\n",
    "                        continue;\n",
    "\n",
    "                    #print(str(residues[r].get_parent().id).strip())\n",
    "\n",
    "                    if res in carb:\n",
    "                        coor_c.append( at.get_coord() )\n",
    "                        res_c.append( [ str(residues[r].id[1]).strip(), str(chains[c].id).strip(), str(residues[r].get_resname()) ] )\n",
    "                        #res_c.append( [ str(residues[r].id[1]).strip(), str(residues[r].get_resname()) ] )\n",
    "                    elif res in prot_aa:\n",
    "                        coor_p.append( at.get_coord() )\n",
    "                        res_p.append( [ str(residues[r].id[1]).strip(), str(chains[c].id).strip(), str(residues[r].get_resname()) ] )\n",
    "                        #res_p.append( [ str(residues[r].id[1]).strip(), str(residues[r].get_resname()) ] )\n",
    "                    else:\n",
    "                        coor_x.append( at.get_coord() )\n",
    "                        res_x.append( [ str(residues[r].id[1]).strip(), str(chains[c].id).strip(), str(residues[r].get_resname()) ] )\n",
    "                        #res_x.append( [ str(residues[r].id[1]).strip(), str(residues[r].get_resname()) ] )\n",
    "                        \n",
    "        return np.array(coor_c), np.array(coor_p), np.array(coor_x), res_c, res_p, res_x"
   ]
  },
  {
   "cell_type": "code",
   "execution_count": 26,
   "id": "e0189a92-ecd1-4d72-98b9-91e6fa1b9fc8",
   "metadata": {},
   "outputs": [],
   "source": [
    "def remove_glycosylated(coor_c,coor_p,res_c,res_p,BOND_CUT=1.75):\n",
    "\n",
    "    d = dm(coor_c,coor_p) < BOND_CUT\n",
    "    a = np.array( np.where(d == 1) )\n",
    "    a = np.array(a)\n",
    "\n",
    "    #a = np.array( np.where(d == 1) )\n",
    "    bad_c = []\n",
    "    for ii in range(a.shape[1]):\n",
    "        bad_c.append( res_c[a[0,ii]] )\n",
    "        #print(res_c[a[0,ii]], res_p[a[1,ii]])\n",
    "\n",
    "\n",
    "    pre_bad = bad_c;\n",
    "\n",
    "    while True:      \n",
    "        ccd = dm(coor_c,coor_c) < BOND_CUT\n",
    "        ccd = np.array( np.where(ccd == 1) )\n",
    "        ccd = np.array(ccd)\n",
    "        #print(ccd)\n",
    "\n",
    "        for ii in range(ccd.shape[1]):\n",
    "            if res_c[ ccd[0,ii] ] in bad_c or res_c[ ccd[1,ii] ] in bad_c:\n",
    "                if res_c[ccd[0,ii]] not in bad_c:\n",
    "                    bad_c.append( res_c[ccd[0,ii]] )\n",
    "                if res_c[ccd[1,ii]] not in bad_c:\n",
    "                    bad_c.append( res_c[ccd[1,ii]] )\n",
    "            #print(res_c[ ccd[0,ii] ], res_c[ccd[1,ii]])\n",
    "\n",
    "        if pre_bad == bad_c:\n",
    "            break;\n",
    "        pre_bad = copy.deepcopy(bad_c)\n",
    "\n",
    "    good_c = []\n",
    "    for c in res_c:\n",
    "        if c in bad_c:\n",
    "            continue;\n",
    "        if c not in good_c:\n",
    "            good_c.append(c)\n",
    "\n",
    "    return good_c\n",
    "\n",
    "\n",
    "def add_nonglycans(coor_c,coor_x,good_c,res_c,res_x):\n",
    "    #Add non-glycan connections\n",
    "    weirdres = dm(coor_c,coor_x) < BOND_CUT\n",
    "    weirdres = np.array( np.where(weirdres == 1) )\n",
    "    weirdres =  np.array(weirdres)\n",
    "    #print(weirdres)\n",
    "\n",
    "    for ii in range(weirdres.shape[1]):\n",
    "        if res_c[weirdres[0,ii]] in good_c:\n",
    "            good_c.append( res_x[weirdres[1,ii]] )\n",
    "    return good_c\n"
   ]
  },
  {
   "cell_type": "code",
   "execution_count": 27,
   "id": "c575d445-e3e2-48a6-a6f4-f96f858290ad",
   "metadata": {},
   "outputs": [],
   "source": [
    "res_p = []\n",
    "good_c = []\n",
    "\n",
    "class GlycanSelect(Select):\n",
    "    def accept_residue(self, residue):\n",
    "        r = residue\n",
    "        #help(r)\n",
    "        #if residue.get_resname()=='GLY':\n",
    "        \n",
    "        n = str(r.id[1]).strip()\n",
    "        c = str(r.get_parent().id).strip()\n",
    "        resname = str(r.get_resname())\n",
    "        resarr = [n,c,resname]\n",
    "        #if resname in carb:\n",
    "        if resarr in good_c:\n",
    "            return 1\n",
    "        else:\n",
    "            return 0\n",
    "        \n",
    "\n",
    "class ProtSelect(Select):\n",
    "    def accept_residue(self, residue):\n",
    "        r = residue\n",
    "        #help(r)\n",
    "        #if residue.get_resname()=='GLY':\n",
    "        \n",
    "        n = str(r.id[1]).strip()\n",
    "        c = str(r.get_parent().id).strip()\n",
    "        resname = str(r.get_resname())\n",
    "        resarr = [n,c,resname]\n",
    "        #if resname in carb:\n",
    "        if resarr in res_p:\n",
    "            return 1\n",
    "        else:\n",
    "            return 0\n",
    "        \n",
    "#io=PDBIO()\n",
    "#io.set_structure(structure)\n",
    "#io.save('prot_only.pdb', ProtSelect())\n",
    "\n"
   ]
  },
  {
   "cell_type": "code",
   "execution_count": 28,
   "id": "92a82bd6-3f75-4224-88a4-b718b0c88133",
   "metadata": {},
   "outputs": [],
   "source": [
    "def find_interactChains(coor_c,coor_p,res_c,res_p,INTERACT=4.2):\n",
    "    #determine chain-chain interactions\n",
    "    d = dm(coor_c,coor_p) < INTERACT\n",
    "    a = np.array( np.where(d == 1) )\n",
    "    a = np.array(a)\n",
    "\n",
    "    #chain_int = {}\n",
    "    chain_int = ''\n",
    "    for ii in range(a.shape[1]):\n",
    "        if res_c[a[0,ii]] in bad_c:\n",
    "            continue\n",
    "        res1 = res_c[ a[0,ii] ]\n",
    "        res2 = res_p[ a[1,ii] ]\n",
    "\n",
    "        #print(res1,res2)\n",
    "\n",
    "        #chain_int[res1[1]] = res2[1]\n",
    "        ope = res1[1] + ',' + res2[1]\n",
    "        if ope not in chain_int:\n",
    "            chain_int +=ope + '\\n'\n",
    "\n",
    "        #chain_int.update({res1[1]:res2[2]})\n",
    "\n",
    "        #bad_c.append( res_c[a[0,ii]] )\n",
    "        #print(res_c[a[0,ii]], res_p[a[1,ii]])\n",
    "\n",
    "    #chain_int\n",
    "\n",
    "    return chain_int"
   ]
  },
  {
   "cell_type": "code",
   "execution_count": 43,
   "id": "efe46c2b-9599-479f-8f91-796070ff5336",
   "metadata": {},
   "outputs": [
    {
     "name": "stderr",
     "output_type": "stream",
     "text": [
      "/Users/scanner1/opt/anaconda3/lib/python3.8/site-packages/Bio/PDB/StructureBuilder.py:89: PDBConstructionWarning: WARNING: Chain A is discontinuous at line 16199.\n",
      "  warnings.warn(\n",
      "/Users/scanner1/opt/anaconda3/lib/python3.8/site-packages/Bio/PDB/StructureBuilder.py:89: PDBConstructionWarning: WARNING: Chain B is discontinuous at line 16283.\n",
      "  warnings.warn(\n",
      "/Users/scanner1/opt/anaconda3/lib/python3.8/site-packages/Bio/PDB/StructureBuilder.py:89: PDBConstructionWarning: WARNING: Chain C is discontinuous at line 16311.\n",
      "  warnings.warn(\n",
      "/Users/scanner1/opt/anaconda3/lib/python3.8/site-packages/Bio/PDB/StructureBuilder.py:89: PDBConstructionWarning: WARNING: Chain D is discontinuous at line 16395.\n",
      "  warnings.warn(\n",
      "/Users/scanner1/opt/anaconda3/lib/python3.8/site-packages/Bio/PDB/StructureBuilder.py:89: PDBConstructionWarning: WARNING: Chain E is discontinuous at line 16423.\n",
      "  warnings.warn(\n",
      "/Users/scanner1/opt/anaconda3/lib/python3.8/site-packages/Bio/PDB/StructureBuilder.py:89: PDBConstructionWarning: WARNING: Chain F is discontinuous at line 16507.\n",
      "  warnings.warn(\n",
      "/Users/scanner1/opt/anaconda3/lib/python3.8/site-packages/Bio/PDB/StructureBuilder.py:89: PDBConstructionWarning: WARNING: Chain A is discontinuous at line 16535.\n",
      "  warnings.warn(\n",
      "/Users/scanner1/opt/anaconda3/lib/python3.8/site-packages/Bio/PDB/StructureBuilder.py:89: PDBConstructionWarning: WARNING: Chain B is discontinuous at line 16574.\n",
      "  warnings.warn(\n",
      "/Users/scanner1/opt/anaconda3/lib/python3.8/site-packages/Bio/PDB/StructureBuilder.py:89: PDBConstructionWarning: WARNING: Chain C is discontinuous at line 16607.\n",
      "  warnings.warn(\n",
      "/Users/scanner1/opt/anaconda3/lib/python3.8/site-packages/Bio/PDB/StructureBuilder.py:89: PDBConstructionWarning: WARNING: Chain D is discontinuous at line 16640.\n",
      "  warnings.warn(\n",
      "/Users/scanner1/opt/anaconda3/lib/python3.8/site-packages/Bio/PDB/StructureBuilder.py:89: PDBConstructionWarning: WARNING: Chain E is discontinuous at line 16679.\n",
      "  warnings.warn(\n",
      "/Users/scanner1/opt/anaconda3/lib/python3.8/site-packages/Bio/PDB/StructureBuilder.py:89: PDBConstructionWarning: WARNING: Chain F is discontinuous at line 16715.\n",
      "  warnings.warn(\n"
     ]
    },
    {
     "name": "stdout",
     "output_type": "stream",
     "text": [
      "0 1HGG.pdb\n",
      "543\n",
      "18\n",
      "18\n",
      "1 1drk.pdb\n",
      "10\n",
      "1\n",
      "1\n"
     ]
    }
   ],
   "source": [
    "parser=PDBParser()\n",
    "\n",
    "for ii in range(len(ls)):\n",
    "    pdb = ls[ii]\n",
    "    p = pdb.split('.')[0]\n",
    "    \n",
    "    if ii == 2:\n",
    "        break;\n",
    "        \n",
    "    \n",
    "    \n",
    "    structure=parser.get_structure(\"prot\", 'pdbs/'+ pdb)\n",
    "    print(ii,pdb)\n",
    "    \n",
    "    coor_c, coor_p, coor_x, res_c, res_p, res_x = get_coor(structure,carb,prot_aa)\n",
    "    #print(len(res_c))\n",
    "    good_c = remove_glycosylated(coor_c,coor_p,res_c,res_p,BOND_CUT=BOND_CUT)\n",
    "    \n",
    "    #print(len(good_c))\n",
    "    if len(coor_x) > 0:\n",
    "        good_c = add_nonglycans(coor_c,coor_x,good_c,res_c,res_x)\n",
    "    #print(len(good_c))\n",
    "    "
   ]
  },
  {
   "cell_type": "code",
   "execution_count": 30,
   "id": "156e92d7-b6ca-48f6-8dc0-a0cec226a8f9",
   "metadata": {},
   "outputs": [
    {
     "name": "stderr",
     "output_type": "stream",
     "text": [
      "/Users/scanner1/opt/anaconda3/lib/python3.8/site-packages/Bio/PDB/StructureBuilder.py:89: PDBConstructionWarning: WARNING: Chain A is discontinuous at line 5919.\n",
      "  warnings.warn(\n"
     ]
    }
   ],
   "source": [
    "parser=PDBParser()\n",
    "\n",
    "#structure=parser.get_structure(\"prot\", 'pdbs/'+ ls[0])\n",
    "structure=parser.get_structure(\"prot\", 'pdbs/'+ '1W3L.pdb')"
   ]
  },
  {
   "cell_type": "code",
   "execution_count": null,
   "id": "aaa8fbf5-94d0-4cb0-b562-1aee250d20f7",
   "metadata": {},
   "outputs": [],
   "source": []
  },
  {
   "cell_type": "code",
   "execution_count": null,
   "id": "cd57998c-333f-4db2-8202-e67f7fd58811",
   "metadata": {},
   "outputs": [],
   "source": []
  }
 ],
 "metadata": {
  "kernelspec": {
   "display_name": "Python 3",
   "language": "python",
   "name": "python3"
  },
  "language_info": {
   "codemirror_mode": {
    "name": "ipython",
    "version": 3
   },
   "file_extension": ".py",
   "mimetype": "text/x-python",
   "name": "python",
   "nbconvert_exporter": "python",
   "pygments_lexer": "ipython3",
   "version": "3.8.8"
  }
 },
 "nbformat": 4,
 "nbformat_minor": 5
}
