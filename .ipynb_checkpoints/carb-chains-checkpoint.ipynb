{
 "cells": [
  {
   "cell_type": "code",
   "execution_count": 1,
   "id": "cf88d2b2-2ecd-4f30-b52f-cbb06cefe6de",
   "metadata": {
    "tags": []
   },
   "outputs": [],
   "source": [
    "from Bio.PDB import *\n",
    "from utils.carb_utils import *\n",
    "#import matplotlib.pyplot as plt\n",
    "from scipy.spatial import distance_matrix as dm\n",
    "\n",
    "\n",
    "#-alternate_3_letter_codes pdb_sugar\n",
    "#-out:level 100\n",
    "\n",
    "#-beta\n",
    "#-auto_detect_glycan_connections\n",
    "#-alternate_3_letter_codes pdb_sugar\n",
    "\n",
    "\n",
    "\n",
    "import os\n",
    "import numpy as np\n",
    "import pandas as pd\n",
    "import copy\n",
    "\n",
    "BOND_CUT = 1.75\n",
    "INTERACT = 4.5\n",
    "\n",
    "input_dir = \"./\"\n",
    "os.chdir(input_dir)"
   ]
  },
  {
   "cell_type": "code",
   "execution_count": null,
   "id": "9aae0552-eae1-4ed7-a598-6084da206033",
   "metadata": {},
   "outputs": [],
   "source": []
  },
  {
   "cell_type": "code",
   "execution_count": 2,
   "id": "fa0f71fe-7890-48fb-a853-07ffd0713127",
   "metadata": {
    "tags": []
   },
   "outputs": [
    {
     "name": "stdout",
     "output_type": "stream",
     "text": [
      "1935\n"
     ]
    }
   ],
   "source": [
    "ls = os.listdir('./pdb_pre/')\n",
    "print(len(ls))"
   ]
  },
  {
   "cell_type": "code",
   "execution_count": 3,
   "id": "dacce9ec-dccf-482a-bb6c-12294a10dbd2",
   "metadata": {
    "tags": []
   },
   "outputs": [],
   "source": [
    "def get_coor(structure):\n",
    "    coor = []\n",
    "    resid = []\n",
    "    \n",
    "\n",
    "    models = structure.get_models()\n",
    "    models = list(models)\n",
    "    if len(models) == 0:\n",
    "        return [],[];\n",
    "    \n",
    "    for m in range(len(models)):\n",
    "\n",
    "        chains = list(models[m].get_chains())\n",
    "        for c in range(len(chains)):\n",
    "            residues = list(chains[c].get_residues())\n",
    "            for r in range(len(residues)):\n",
    "\n",
    "                res = residues[r].get_resname()\n",
    "                if res == 'HOH':\n",
    "                    continue;\n",
    "\n",
    "                atoms = list(residues[r].get_atoms())\n",
    "\n",
    "                for a in range(len(atoms)):\n",
    "                    at = atoms[a]\n",
    "\n",
    "                    if 'H' in at.get_name():\n",
    "                        continue;\n",
    "\n",
    "                    #print(str(residues[r].get_parent().id).strip())\n",
    "\n",
    "                    coor.append( at.get_coord() )\n",
    "                    resid.append( [ str(at.get_name()), str(residues[r].id[1]).strip(), str(chains[c].id).strip(), str(residues[r].get_resname()) ] )\n",
    "                      \n",
    "        #print(len(coor))\n",
    "        return np.array(coor), resid"
   ]
  },
  {
   "cell_type": "code",
   "execution_count": 4,
   "id": "ad36a268-c4bc-4072-8221-d03b19dcf800",
   "metadata": {
    "tags": []
   },
   "outputs": [],
   "source": [
    "def find_interactChains(coor,res,INTERACT=1.75):\n",
    "    #determine chain-chain interactions\n",
    "    d = dm(coor,coor) < INTERACT\n",
    "    a = np.array( np.where(d == 1) )\n",
    "    a = np.array(a)\n",
    "\n",
    "    #chain_int = {}\n",
    "    chain_int = ''\n",
    "    for ii in range(a.shape[1]):\n",
    "\n",
    "        res1 = res[ a[0,ii] ]\n",
    "        res2 = res[ a[1,ii] ]\n",
    "\n",
    "        #print(res1,res2)\n",
    "\n",
    "        #chain_int[res1[1]] = res2[1]\n",
    "        ope = res1[1] + ',' + res2[1]\n",
    "        if ope not in chain_int:\n",
    "            chain_int +=ope + '\\n'\n",
    "\n",
    "        #chain_int.update({res1[1]:res2[2]})\n",
    "\n",
    "        #bad_c.append( res_c[a[0,ii]] )\n",
    "        #print(res_c[a[0,ii]], res_p[a[1,ii]])\n",
    "\n",
    "    #chain_int\n",
    "\n",
    "    return chain_int"
   ]
  },
  {
   "cell_type": "code",
   "execution_count": null,
   "id": "7c35859d-e62e-451f-a118-b00ec117771b",
   "metadata": {},
   "outputs": [],
   "source": []
  },
  {
   "cell_type": "code",
   "execution_count": 5,
   "id": "c4d40e6a-8c93-485b-9eb6-06f7b04a7477",
   "metadata": {
    "tags": []
   },
   "outputs": [],
   "source": [
    "#enter coordinates and chain and get the polymer object instance\n",
    "def chain_to_poly(my_chain,coor,res):\n",
    "    \"\"\"\n",
    "    params:\n",
    "        chain (str): chain identifier\n",
    "        coor (arr n x 3): coordinates\n",
    "        res (arr n x 4): residue information of each atom (aname, resnum, chain, resname)\n",
    "    return:\n",
    "        polymer\n",
    "    \"\"\"\n",
    "\n",
    "\n",
    "    polymer = []\n",
    "    c_resnum = -1;\n",
    "    c_resname = ''\n",
    "    n = []\n",
    "    c = []\n",
    "    \n",
    "    \n",
    "    for i in range(len(res)):\n",
    "        ii = res[i]\n",
    "        aname = ii[0]\n",
    "        resnum = ii[1]\n",
    "        chain = ii[2]\n",
    "        resname = ii[3]\n",
    "        \n",
    "        \n",
    "\n",
    "        if c_resnum != resnum:\n",
    "            if c_resnum != -1 and len(n) > 1:\n",
    "                #print(str(c_resnum),c_resname,np.array(c),n)\n",
    "                m = mono(str(c_resnum),c_resname,np.array(c),n)\n",
    "                polymer.append(m)\n",
    "            #reset\n",
    "            c_resnum = resnum;\n",
    "            c_resname = resname\n",
    "            n = []\n",
    "            c = []\n",
    "\n",
    "        if chain == my_chain:\n",
    "\n",
    "            n.append(aname)\n",
    "            c.append(coor[i])\n",
    "\n",
    "    \n",
    "    if len(n) > 1:\n",
    "        m = mono(str(c_resnum),c_resname,np.array(c),n)\n",
    "        polymer.append(m)\n",
    "\n",
    "    return poly(polymer)"
   ]
  },
  {
   "cell_type": "code",
   "execution_count": 7,
   "id": "90fa5a6d-061b-4d61-8ce6-f67a1fd22a44",
   "metadata": {
    "tags": []
   },
   "outputs": [
    {
     "name": "stdout",
     "output_type": "stream",
     "text": [
      "0\n",
      "7 3ZOA_carb.pdb\n",
      "8 1HJV_carb.pdb\n"
     ]
    },
    {
     "ename": "TypeError",
     "evalue": "'poly' object is not callable",
     "output_type": "error",
     "traceback": [
      "\u001b[0;31m---------------------------------------------------------------------------\u001b[0m",
      "\u001b[0;31mTypeError\u001b[0m                                 Traceback (most recent call last)",
      "Cell \u001b[0;32mIn[7], line 39\u001b[0m\n\u001b[1;32m     37\u001b[0m \u001b[38;5;66;03m#print(chains)\u001b[39;00m\n\u001b[1;32m     38\u001b[0m \u001b[38;5;28;01mfor\u001b[39;00m c \u001b[38;5;129;01min\u001b[39;00m chains:\n\u001b[0;32m---> 39\u001b[0m     poly \u001b[38;5;241m=\u001b[39m chain_to_poly(c,coor,res)\n\u001b[1;32m     41\u001b[0m     np\u001b[38;5;241m.\u001b[39msave(\u001b[38;5;124m'\u001b[39m\u001b[38;5;124mnpy_pre/\u001b[39m\u001b[38;5;124m'\u001b[39m \u001b[38;5;241m+\u001b[39m p \u001b[38;5;241m+\u001b[39m \u001b[38;5;124m'\u001b[39m\u001b[38;5;124m_\u001b[39m\u001b[38;5;124m'\u001b[39m \u001b[38;5;241m+\u001b[39m c \u001b[38;5;241m+\u001b[39m \u001b[38;5;124m'\u001b[39m\u001b[38;5;124m.npy\u001b[39m\u001b[38;5;124m'\u001b[39m,poly)\n",
      "Cell \u001b[0;32mIn[5], line 50\u001b[0m, in \u001b[0;36mchain_to_poly\u001b[0;34m(my_chain, coor, res)\u001b[0m\n\u001b[1;32m     47\u001b[0m     m \u001b[38;5;241m=\u001b[39m mono(\u001b[38;5;28mstr\u001b[39m(c_resnum),c_resname,np\u001b[38;5;241m.\u001b[39marray(c),n)\n\u001b[1;32m     48\u001b[0m     polymer\u001b[38;5;241m.\u001b[39mappend(m)\n\u001b[0;32m---> 50\u001b[0m \u001b[38;5;28;01mreturn\u001b[39;00m poly(polymer)\n",
      "\u001b[0;31mTypeError\u001b[0m: 'poly' object is not callable"
     ]
    }
   ],
   "source": [
    "fasta = ''\n",
    "\n",
    "parser=PDBParser()\n",
    "\n",
    "\n",
    "\n",
    "for ii in range(len(ls)):\n",
    "    pdb = ls[ii]\n",
    "    \n",
    "    if ii % 500 == 0:\n",
    "        print(ii)\n",
    "    \n",
    "    if '_carb' not in pdb:\n",
    "        continue;\n",
    "        \n",
    "    p = pdb.split('.')[0][:4]\n",
    "    \n",
    "    #if ii == 2:\n",
    "    #    break;\n",
    "    #try:\n",
    "    structure=parser.get_structure(\"carb\", 'pdb_pre/'+ pdb)\n",
    "    print(ii,pdb)\n",
    "\n",
    "    coor, res = get_coor(structure)\n",
    "    if len(coor) == 0:\n",
    "        print('nope')\n",
    "        continue\n",
    "    #inter = find_interactChains(coor,res)\n",
    "    #print(inter)\n",
    "\n",
    "    chains = []\n",
    "    for ii in res:\n",
    "        #print(ii)\n",
    "        #break;\n",
    "        if ii[2] not in chains:\n",
    "            chains.append(ii[2])\n",
    "    #print(chains)\n",
    "    for c in chains:\n",
    "        po = chain_to_poly(c,coor,res)\n",
    "\n",
    "        np.save('npy_pre/' + p + '_' + c + '.npy',po)\n",
    "\n",
    "        #fasta += get_fasta(structure,p)\n",
    "    #except:\n",
    "        #bad.append(pdb)\n",
    "    #    print('nope')\n",
    "        \n",
    "    #if ii >= 10:\n",
    "    #    break;\n",
    "    \n",
    "    \n",
    "#f = open('pdb_pre/all_fasta.fa','w+')\n",
    "#f.write(fasta)\n",
    "#f.close()"
   ]
  },
  {
   "cell_type": "code",
   "execution_count": null,
   "id": "6dbd5d6e-6c66-438b-9dc9-ebfe62829f6e",
   "metadata": {},
   "outputs": [],
   "source": []
  },
  {
   "cell_type": "code",
   "execution_count": null,
   "id": "31ce5b0e-f573-45ad-ba73-32db0145af0f",
   "metadata": {},
   "outputs": [],
   "source": []
  }
 ],
 "metadata": {
  "kernelspec": {
   "display_name": "Python 3 (ipykernel)",
   "language": "python",
   "name": "python3"
  },
  "language_info": {
   "codemirror_mode": {
    "name": "ipython",
    "version": 3
   },
   "file_extension": ".py",
   "mimetype": "text/x-python",
   "name": "python",
   "nbconvert_exporter": "python",
   "pygments_lexer": "ipython3",
   "version": "3.11.5"
  }
 },
 "nbformat": 4,
 "nbformat_minor": 5
}
